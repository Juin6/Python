{
 "cells": [
  {
   "cell_type": "code",
   "execution_count": null,
   "id": "e7f8b565-bf1f-4508-bf56-abdc774a1c9f",
   "metadata": {},
   "outputs": [],
   "source": []
  },
  {
   "cell_type": "code",
   "execution_count": 2,
   "id": "deee416f-20de-43f4-98b7-8c2fcf30f326",
   "metadata": {},
   "outputs": [
    {
     "name": "stdout",
     "output_type": "stream",
     "text": [
      "<module 'myPackage' from '/Users/june/Desktop/DMF/python/myPackage/__init__.py'>\n"
     ]
    }
   ],
   "source": [
    "print(myPackage)"
   ]
  },
  {
   "cell_type": "code",
   "execution_count": 1,
   "id": "0713b6e6-502a-49bd-99e2-1d5b85f50328",
   "metadata": {},
   "outputs": [],
   "source": [
    "import myPackage"
   ]
  },
  {
   "cell_type": "code",
   "execution_count": 3,
   "id": "58c10f33-656f-4d4b-8376-75a376da0bdc",
   "metadata": {},
   "outputs": [],
   "source": [
    "from myPackage.math import fomula"
   ]
  },
  {
   "cell_type": "code",
   "execution_count": 4,
   "id": "c67c451a-7cfb-4496-a7c8-e9c7fbce045c",
   "metadata": {},
   "outputs": [
    {
     "data": {
      "text/plain": [
       "2"
      ]
     },
     "execution_count": 4,
     "metadata": {},
     "output_type": "execute_result"
    }
   ],
   "source": [
    "fomula.my_max(1, 2)"
   ]
  },
  {
   "cell_type": "code",
   "execution_count": 5,
   "id": "37bc1f8c-713a-4edb-bdfa-68c7e1b9c46d",
   "metadata": {},
   "outputs": [
    {
     "data": {
      "text/plain": [
       "3.14"
      ]
     },
     "execution_count": 5,
     "metadata": {},
     "output_type": "execute_result"
    }
   ],
   "source": [
    "fomula.pi"
   ]
  },
  {
   "cell_type": "code",
   "execution_count": 6,
   "id": "2e63a6ac-5a32-475b-987b-7d9d23ff2e5c",
   "metadata": {},
   "outputs": [
    {
     "data": {
      "text/plain": [
       "120"
      ]
     },
     "execution_count": 6,
     "metadata": {},
     "output_type": "execute_result"
    }
   ],
   "source": [
    "fomula.fact(5)"
   ]
  },
  {
   "cell_type": "code",
   "execution_count": 8,
   "id": "9ae81c2d-fa9d-4a2a-ab36-5a5e3c561df3",
   "metadata": {},
   "outputs": [
    {
     "data": {
      "text/plain": [
       "2"
      ]
     },
     "execution_count": 8,
     "metadata": {},
     "output_type": "execute_result"
    }
   ],
   "source": [
    "from myPackage.math.fomula import my_max, pi, fact\n",
    "my_max(1, 2)"
   ]
  },
  {
   "cell_type": "code",
   "execution_count": 12,
   "id": "5bf3c2dc-4e42-40e3-8c7f-4d3b689aa29f",
   "metadata": {},
   "outputs": [],
   "source": [
    "from myPackage.math.fomula import *"
   ]
  },
  {
   "cell_type": "code",
   "execution_count": 13,
   "id": "9aa9d6fe-e8bf-4f99-9d48-532a6c49a25d",
   "metadata": {},
   "outputs": [
    {
     "name": "stdout",
     "output_type": "stream",
     "text": [
      "1234\n",
      "1234\n",
      "<module 'myPackage.math.fomula' from '/Users/june/Desktop/DMF/python/myPackage/math/fomula.py'>\n"
     ]
    }
   ],
   "source": [
    "fomula = 1234\n",
    "print(fomula)\n",
    "from myPackage.math import fomula as f\n",
    "print(fomula)\n",
    "print(f)"
   ]
  },
  {
   "cell_type": "markdown",
   "id": "c0c41956-0032-4aa8-a02e-ad0d9aa8e750",
   "metadata": {},
   "source": [
    "# 파이썬 내장 패키지\n",
    "- 파이썬이 기존에 가지고 있는 패키지도 있다.\n",
    "- pypi에 사람들이 만들어둔 패키지가 있다. 이걸 적재적소에 잘 찾아서 효율성 있게 활용하는게 결국 실무 능력."
   ]
  },
  {
   "cell_type": "markdown",
   "id": "31958d5e-827b-433a-b6d9-d1a1d982cc31",
   "metadata": {},
   "source": [
    "## math"
   ]
  },
  {
   "cell_type": "code",
   "execution_count": 14,
   "id": "607ab916-6c1a-4160-919d-5d3331f2fa06",
   "metadata": {},
   "outputs": [],
   "source": [
    "import math"
   ]
  },
  {
   "cell_type": "code",
   "execution_count": 15,
   "id": "3096974d-cd04-4580-98a6-4466d7df1a8f",
   "metadata": {},
   "outputs": [
    {
     "data": {
      "text/plain": [
       "3.141592653589793"
      ]
     },
     "execution_count": 15,
     "metadata": {},
     "output_type": "execute_result"
    }
   ],
   "source": [
    "math.pi"
   ]
  },
  {
   "cell_type": "code",
   "execution_count": 16,
   "id": "2998fd9e-ef23-4d2d-8c83-fbcd61707d8b",
   "metadata": {},
   "outputs": [
    {
     "data": {
      "text/plain": [
       "2.718281828459045"
      ]
     },
     "execution_count": 16,
     "metadata": {},
     "output_type": "execute_result"
    }
   ],
   "source": [
    "math.e"
   ]
  },
  {
   "cell_type": "code",
   "execution_count": 17,
   "id": "d54ba750-9cf1-4143-9160-1f896c3acfbd",
   "metadata": {},
   "outputs": [
    {
     "data": {
      "text/plain": [
       "4"
      ]
     },
     "execution_count": 17,
     "metadata": {},
     "output_type": "execute_result"
    }
   ],
   "source": [
    "math.ceil(math.pi) #반올림"
   ]
  },
  {
   "cell_type": "code",
   "execution_count": 19,
   "id": "98913640-2e95-4505-b83e-229d07d89860",
   "metadata": {},
   "outputs": [
    {
     "data": {
      "text/plain": [
       "3"
      ]
     },
     "execution_count": 19,
     "metadata": {},
     "output_type": "execute_result"
    }
   ],
   "source": [
    "math.floor(math.pi) #내림"
   ]
  },
  {
   "cell_type": "code",
   "execution_count": 20,
   "id": "7f296f9c-c167-474b-88f9-75a6eed84b26",
   "metadata": {},
   "outputs": [
    {
     "data": {
      "text/plain": [
       "3.0"
      ]
     },
     "execution_count": 20,
     "metadata": {},
     "output_type": "execute_result"
    }
   ],
   "source": [
    "math.sqrt(9) #루트"
   ]
  },
  {
   "cell_type": "code",
   "execution_count": 21,
   "id": "82de13c1-705e-48ba-8534-b478e6d7d900",
   "metadata": {},
   "outputs": [
    {
     "data": {
      "text/plain": [
       "3628800"
      ]
     },
     "execution_count": 21,
     "metadata": {},
     "output_type": "execute_result"
    }
   ],
   "source": [
    "math.factorial(10)"
   ]
  },
  {
   "cell_type": "markdown",
   "id": "36547723-f514-4a1e-a66b-97da28bc8687",
   "metadata": {},
   "source": [
    "## random"
   ]
  },
  {
   "cell_type": "code",
   "execution_count": 22,
   "id": "5fbe3227-e2a7-4a0b-b7af-2cd20e405274",
   "metadata": {},
   "outputs": [],
   "source": [
    "import random"
   ]
  },
  {
   "cell_type": "code",
   "execution_count": 23,
   "id": "8c48cab8-383d-4597-8bc1-41135201951c",
   "metadata": {},
   "outputs": [
    {
     "data": {
      "text/plain": [
       "0.47722917244808694"
      ]
     },
     "execution_count": 23,
     "metadata": {},
     "output_type": "execute_result"
    }
   ],
   "source": [
    "random.random()"
   ]
  },
  {
   "cell_type": "code",
   "execution_count": 58,
   "id": "cba6d1e4-6c69-4ad5-9453-0a0ce52290e7",
   "metadata": {},
   "outputs": [
    {
     "data": {
      "text/plain": [
       "37"
      ]
     },
     "execution_count": 58,
     "metadata": {},
     "output_type": "execute_result"
    }
   ],
   "source": [
    "random.randint(1, 100)"
   ]
  },
  {
   "cell_type": "code",
   "execution_count": 64,
   "id": "e53221a9-5ddf-4301-9e4f-751b86aafab2",
   "metadata": {},
   "outputs": [
    {
     "data": {
      "text/plain": [
       "0.052363598850944326"
      ]
     },
     "execution_count": 64,
     "metadata": {},
     "output_type": "execute_result"
    }
   ],
   "source": [
    "random.seed(123)\n",
    "random.random()"
   ]
  },
  {
   "cell_type": "code",
   "execution_count": 67,
   "id": "3b1a571f-0ea8-4f18-8b5a-befa33397e78",
   "metadata": {},
   "outputs": [],
   "source": [
    "numbers = list(range(1, 6))"
   ]
  },
  {
   "cell_type": "code",
   "execution_count": 70,
   "id": "4e4d367b-f35b-4650-ba6a-2fb0136184ad",
   "metadata": {},
   "outputs": [
    {
     "data": {
      "text/plain": [
       "[3, 5, 2, 4, 1]"
      ]
     },
     "execution_count": 70,
     "metadata": {},
     "output_type": "execute_result"
    }
   ],
   "source": [
    "numbers"
   ]
  },
  {
   "cell_type": "code",
   "execution_count": 71,
   "id": "b7c583f2-866c-4d16-a1b2-3f9e955a3063",
   "metadata": {},
   "outputs": [
    {
     "name": "stdout",
     "output_type": "stream",
     "text": [
      "[1, 5, 2, 4, 3]\n"
     ]
    }
   ],
   "source": [
    "random.shuffle(numbers)\n",
    "print(numbers)"
   ]
  },
  {
   "cell_type": "code",
   "execution_count": 128,
   "id": "e50b22f5-b8e8-470d-aa12-cbe56bd955ab",
   "metadata": {},
   "outputs": [
    {
     "name": "stdout",
     "output_type": "stream",
     "text": [
      "2\n",
      "1\n"
     ]
    }
   ],
   "source": [
    "print(random.choice(numbers)) #복원추출\n",
    "print(random.choice(numbers))"
   ]
  },
  {
   "cell_type": "code",
   "execution_count": 129,
   "id": "3d12bb1b-38df-4707-9ed5-cc11129834e3",
   "metadata": {},
   "outputs": [
    {
     "name": "stdout",
     "output_type": "stream",
     "text": [
      "[1, 4]\n"
     ]
    }
   ],
   "source": [
    "print(random.sample(numbers, 2)) #비복원추출"
   ]
  },
  {
   "cell_type": "markdown",
   "id": "ed700a04-e775-40fd-9028-2c6e1b699ad4",
   "metadata": {},
   "source": [
    "### datetime"
   ]
  },
  {
   "cell_type": "code",
   "execution_count": 131,
   "id": "5a41bbb7-9252-471a-8fc0-e12ac85d0e5f",
   "metadata": {},
   "outputs": [],
   "source": [
    "from datetime import datetime"
   ]
  },
  {
   "cell_type": "code",
   "execution_count": 137,
   "id": "fd46b544-b5d4-4973-874a-6d2ff2311ab4",
   "metadata": {},
   "outputs": [
    {
     "data": {
      "text/plain": [
       "datetime.datetime(2024, 7, 2, 10, 45, 6, 796831)"
      ]
     },
     "execution_count": 137,
     "metadata": {},
     "output_type": "execute_result"
    }
   ],
   "source": [
    "datetime.now()"
   ]
  },
  {
   "cell_type": "code",
   "execution_count": 138,
   "id": "233141ef-6b9c-43fd-a305-8350192e6a60",
   "metadata": {},
   "outputs": [
    {
     "data": {
      "text/plain": [
       "datetime.datetime(2024, 7, 2, 10, 45, 31, 832425)"
      ]
     },
     "execution_count": 138,
     "metadata": {},
     "output_type": "execute_result"
    }
   ],
   "source": [
    "datetime.today() # now와 똑같은 기능"
   ]
  },
  {
   "cell_type": "code",
   "execution_count": 139,
   "id": "f94af370-57a5-45af-a54c-b34e668495c4",
   "metadata": {},
   "outputs": [
    {
     "name": "stderr",
     "output_type": "stream",
     "text": [
      "/var/folders/tx/bqy8rt1d26s6vhm2mlnw1lr80000gn/T/ipykernel_72996/3983769260.py:1: DeprecationWarning: datetime.datetime.utcnow() is deprecated and scheduled for removal in a future version. Use timezone-aware objects to represent datetimes in UTC: datetime.datetime.now(datetime.UTC).\n",
      "  datetime.utcnow()\n"
     ]
    },
    {
     "data": {
      "text/plain": [
       "datetime.datetime(2024, 7, 2, 1, 46, 15, 815771)"
      ]
     },
     "execution_count": 139,
     "metadata": {},
     "output_type": "execute_result"
    }
   ],
   "source": [
    "datetime.utcnow()"
   ]
  },
  {
   "cell_type": "code",
   "execution_count": 145,
   "id": "6b668b4b-6e87-4fd0-83d2-c27fc57209d4",
   "metadata": {},
   "outputs": [
    {
     "ename": "NameError",
     "evalue": "name 'UTC' is not defined",
     "output_type": "error",
     "traceback": [
      "\u001b[0;31m---------------------------------------------------------------------------\u001b[0m",
      "\u001b[0;31mNameError\u001b[0m                                 Traceback (most recent call last)",
      "Cell \u001b[0;32mIn[145], line 1\u001b[0m\n\u001b[0;32m----> 1\u001b[0m datetime\u001b[38;5;241m.\u001b[39mnow(datetime(\u001b[43mUTC\u001b[49m))\n",
      "\u001b[0;31mNameError\u001b[0m: name 'UTC' is not defined"
     ]
    }
   ],
   "source": [
    "datetime.now(datetime(UTC))"
   ]
  },
  {
   "cell_type": "code",
   "execution_count": 155,
   "id": "d0f11cef-b918-448e-8f8c-76e8174a30c7",
   "metadata": {},
   "outputs": [
    {
     "name": "stdout",
     "output_type": "stream",
     "text": [
      "2024-07-02 10:58:51.518749\n"
     ]
    },
    {
     "data": {
      "text/plain": [
       "'24년 07월 02일, Tuesday'"
      ]
     },
     "execution_count": 155,
     "metadata": {},
     "output_type": "execute_result"
    }
   ],
   "source": [
    "now = datetime.now()\n",
    "print(now)\n",
    "now.strftime('%y년 %m월 %d일, %A')"
   ]
  },
  {
   "cell_type": "code",
   "execution_count": 156,
   "id": "cde4333c-2e4a-4fab-8678-9e2675074d77",
   "metadata": {},
   "outputs": [
    {
     "data": {
      "text/plain": [
       "2024"
      ]
     },
     "execution_count": 156,
     "metadata": {},
     "output_type": "execute_result"
    }
   ],
   "source": [
    "now.year"
   ]
  },
  {
   "cell_type": "code",
   "execution_count": 157,
   "id": "8e6143b4-82a3-401a-9d39-a8adcd8506f0",
   "metadata": {},
   "outputs": [
    {
     "data": {
      "text/plain": [
       "7"
      ]
     },
     "execution_count": 157,
     "metadata": {},
     "output_type": "execute_result"
    }
   ],
   "source": [
    "now.month"
   ]
  },
  {
   "cell_type": "code",
   "execution_count": 158,
   "id": "e09983ba-a058-44c6-9969-1e33876e10f9",
   "metadata": {},
   "outputs": [
    {
     "data": {
      "text/plain": [
       "1"
      ]
     },
     "execution_count": 158,
     "metadata": {},
     "output_type": "execute_result"
    }
   ],
   "source": [
    "now.weekday()"
   ]
  },
  {
   "cell_type": "code",
   "execution_count": 160,
   "id": "10932780-2962-49b6-82eb-866fc3184386",
   "metadata": {},
   "outputs": [
    {
     "data": {
      "text/plain": [
       "2"
      ]
     },
     "execution_count": 160,
     "metadata": {},
     "output_type": "execute_result"
    }
   ],
   "source": [
    "now.day"
   ]
  },
  {
   "cell_type": "code",
   "execution_count": 162,
   "id": "4feda328-a066-4b80-9f27-ebaa50d638d2",
   "metadata": {},
   "outputs": [
    {
     "name": "stdout",
     "output_type": "stream",
     "text": [
      "2024-12-25 00:00:00\n"
     ]
    }
   ],
   "source": [
    "x_mas = datetime(2024, 12, 25)\n",
    "print(x_mas)"
   ]
  },
  {
   "cell_type": "code",
   "execution_count": 166,
   "id": "6ae720d3-39e3-4f4e-af2a-2abbbb085beb",
   "metadata": {},
   "outputs": [],
   "source": [
    "from datetime import timedelta"
   ]
  },
  {
   "cell_type": "code",
   "execution_count": 167,
   "id": "abaeab5a-7c45-4b7f-83bb-05a020d1039f",
   "metadata": {},
   "outputs": [
    {
     "data": {
      "text/plain": [
       "datetime.timedelta(days=3)"
      ]
     },
     "execution_count": 167,
     "metadata": {},
     "output_type": "execute_result"
    }
   ],
   "source": [
    "future = timedelta(days=3)\n",
    "future"
   ]
  },
  {
   "cell_type": "code",
   "execution_count": 168,
   "id": "2654d624-3ead-4860-a4cd-578a3f58a8a7",
   "metadata": {},
   "outputs": [
    {
     "data": {
      "text/plain": [
       "datetime.datetime(2024, 12, 28, 0, 0)"
      ]
     },
     "execution_count": 168,
     "metadata": {},
     "output_type": "execute_result"
    }
   ],
   "source": [
    "x_mas + future"
   ]
  },
  {
   "cell_type": "code",
   "execution_count": 170,
   "id": "00d57933-6df8-42e6-9c28-6c1677b5d398",
   "metadata": {},
   "outputs": [
    {
     "name": "stdout",
     "output_type": "stream",
     "text": [
      "182 days, 12:54:34.512097\n"
     ]
    }
   ],
   "source": [
    "new_year = datetime(2025, 1, 1)\n",
    "now = datetime.now()\n",
    "\n",
    "print(new_year - now)"
   ]
  },
  {
   "cell_type": "code",
   "execution_count": 171,
   "id": "eeae9bca-4503-4a92-9945-328a94376d15",
   "metadata": {},
   "outputs": [
    {
     "name": "stdout",
     "output_type": "stream",
     "text": [
      "2024-10-10 11:06:01.438106\n"
     ]
    }
   ],
   "source": [
    "now = datetime.now()\n",
    "d100 = timedelta(days=100)\n",
    "\n",
    "print(now + d100)"
   ]
  },
  {
   "cell_type": "markdown",
   "id": "9c2b2f1b-5fe6-41bc-8b5b-beadae4c4760",
   "metadata": {},
   "source": [
    "## 라이브러리"
   ]
  },
  {
   "cell_type": "code",
   "execution_count": 172,
   "id": "1d054667-3266-4d67-9b9d-8d4b288d57ea",
   "metadata": {},
   "outputs": [],
   "source": [
    "import requests"
   ]
  },
  {
   "cell_type": "code",
   "execution_count": 179,
   "id": "799c70f3-b4a3-4594-ba9b-0946f42a4ec9",
   "metadata": {
    "scrolled": true
   },
   "outputs": [
    {
     "name": "stdout",
     "output_type": "stream",
     "text": [
      "<Response [200]>\n"
     ]
    }
   ],
   "source": [
    "payload = {'query': '동아일보'}\n",
    "\n",
    "r = requests.get('https://search.naver.com/search.naver', params = payload)\n",
    "print(r)\n",
    "#200으로 들어오면 잘 작동한다 해석. 400으로 들어오면 문제 있다는 뜻."
   ]
  },
  {
   "cell_type": "code",
   "execution_count": 181,
   "id": "753ad386-2897-4a91-b801-4a844004d6f9",
   "metadata": {},
   "outputs": [
    {
     "name": "stdout",
     "output_type": "stream",
     "text": [
      "<Response [200]>\n"
     ]
    }
   ],
   "source": [
    "payload = {'query': '동아일보'}\n",
    "\n",
    "r = requests.get('https://www.google.com/search', params = payload)\n",
    "print(r)"
   ]
  },
  {
   "cell_type": "code",
   "execution_count": 192,
   "id": "c96e3c7e-9458-460c-b31d-fd194da74a56",
   "metadata": {},
   "outputs": [
    {
     "name": "stdout",
     "output_type": "stream",
     "text": [
      "{'totSellamnt': 111998191000, 'returnValue': 'success', 'drwNoDate': '2024-06-29', 'firstWinamnt': 2386382421, 'drwtNo6': 40, 'drwtNo4': 11, 'firstPrzwnerCo': 11, 'drwtNo5': 37, 'bnusNo': 7, 'firstAccumamnt': 26250206631, 'drwNo': 1126, 'drwtNo2': 5, 'drwtNo3': 9, 'drwtNo1': 4}\n",
      "4\n",
      "5\n",
      "9\n",
      "11\n",
      "37\n",
      "40\n"
     ]
    }
   ],
   "source": [
    "payload = {\n",
    "    'method': 'getLottoNumber',\n",
    "    'drwNo': 1126\n",
    "}\n",
    "\n",
    "r = requests.get('https://www.dhlottery.co.kr/common.do?', params = payload)\n",
    "print(r.json())\n",
    "\n",
    "lotto_dict = r.json()\n",
    "for i in range(1,7):\n",
    "    print(lotto_dict[f'drwtNo{i}'])\n"
   ]
  },
  {
   "cell_type": "code",
   "execution_count": null,
   "id": "c8c21911-1dca-4b8b-8732-ad500fd19b39",
   "metadata": {},
   "outputs": [],
   "source": []
  }
 ],
 "metadata": {
  "kernelspec": {
   "display_name": "Python 3 (ipykernel)",
   "language": "python",
   "name": "python3"
  },
  "language_info": {
   "codemirror_mode": {
    "name": "ipython",
    "version": 3
   },
   "file_extension": ".py",
   "mimetype": "text/x-python",
   "name": "python",
   "nbconvert_exporter": "python",
   "pygments_lexer": "ipython3",
   "version": "3.12.4"
  }
 },
 "nbformat": 4,
 "nbformat_minor": 5
}
