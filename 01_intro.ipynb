{
 "cells": [
  {
   "cell_type": "markdown",
   "id": "b45bd68e-7330-4345-9d33-fd521ab25a7c",
   "metadata": {},
   "source": [
    "# 01. intro\n",
    "\n",
    "## shortcut\n",
    "- ctrl + enter : 현재 셀 실행\n",
    "- shift + enter : 현재 셀 실행 & 아래로 이동\n",
    "- alt + enter : 현재 셀 실행 & 아래에 새로운 셀 추가\n",
    "\n",
    "## 주의사항\n",
    "\n",
    "1. Apple / apple\n",
    "2. git add . / git add.\n",
    "3. message / massage"
   ]
  },
  {
   "cell_type": "code",
   "execution_count": 25,
   "id": "4e57e290-f254-48ea-b6cc-5d5e99ef516b",
   "metadata": {},
   "outputs": [],
   "source": [
    "# 여기는 주석입니다."
   ]
  },
  {
   "cell_type": "markdown",
   "id": "a38890e2-b201-4bb6-b024-410a6e72fbff",
   "metadata": {},
   "source": [
    "## 1. 변수\n",
    "\n",
    "변수이름 = 값\n",
    "\n",
    "- 변수이름은 어떤 이름이든 사용가능\n",
    "- 다만 영어, 숫자, _를 이용하여 선언\n",
    "- 키워드는 사용 불가"
   ]
  },
  {
   "cell_type": "code",
   "execution_count": 40,
   "id": "74254335-fc5e-461e-88a3-7856f44af552",
   "metadata": {},
   "outputs": [],
   "source": [
    "a = 30"
   ]
  },
  {
   "cell_type": "code",
   "execution_count": 44,
   "id": "acc4a81c-50b4-4d31-b23b-0d8462467650",
   "metadata": {},
   "outputs": [
    {
     "data": {
      "text/plain": [
       "30"
      ]
     },
     "execution_count": 44,
     "metadata": {},
     "output_type": "execute_result"
    }
   ],
   "source": [
    "a"
   ]
  },
  {
   "cell_type": "code",
   "execution_count": 45,
   "id": "2808237f-5ddc-4bf7-b307-ebe15ef19097",
   "metadata": {},
   "outputs": [
    {
     "data": {
      "text/plain": [
       "['False',\n",
       " 'None',\n",
       " 'True',\n",
       " 'and',\n",
       " 'as',\n",
       " 'assert',\n",
       " 'async',\n",
       " 'await',\n",
       " 'break',\n",
       " 'class',\n",
       " 'continue',\n",
       " 'def',\n",
       " 'del',\n",
       " 'elif',\n",
       " 'else',\n",
       " 'except',\n",
       " 'finally',\n",
       " 'for',\n",
       " 'from',\n",
       " 'global',\n",
       " 'if',\n",
       " 'import',\n",
       " 'in',\n",
       " 'is',\n",
       " 'lambda',\n",
       " 'nonlocal',\n",
       " 'not',\n",
       " 'or',\n",
       " 'pass',\n",
       " 'raise',\n",
       " 'return',\n",
       " 'try',\n",
       " 'while',\n",
       " 'with',\n",
       " 'yield']"
      ]
     },
     "execution_count": 45,
     "metadata": {},
     "output_type": "execute_result"
    }
   ],
   "source": [
    "import keyword\n",
    "keyword.kwlist"
   ]
  },
  {
   "cell_type": "code",
   "execution_count": null,
   "id": "2c04fe3a-33f5-4ba3-a76b-3af8420abe1d",
   "metadata": {},
   "outputs": [],
   "source": [
    "seoul_dust_rate = 10"
   ]
  },
  {
   "cell_type": "markdown",
   "id": "e58ca813-3685-4404-bbfa-60bb95164f95",
   "metadata": {},
   "source": [
    "## 1.1 number"
   ]
  },
  {
   "cell_type": "code",
   "execution_count": 46,
   "id": "e00ece26-b500-4acf-bcfc-72b14f7378a8",
   "metadata": {},
   "outputs": [],
   "source": [
    "a = 100000"
   ]
  },
  {
   "cell_type": "code",
   "execution_count": 47,
   "id": "e57497d1-cc4b-4e0e-8a60-263cd99183ac",
   "metadata": {},
   "outputs": [
    {
     "data": {
      "text/plain": [
       "100000"
      ]
     },
     "execution_count": 47,
     "metadata": {},
     "output_type": "execute_result"
    }
   ],
   "source": [
    "a"
   ]
  },
  {
   "cell_type": "code",
   "execution_count": 48,
   "id": "2493a19f-fefa-4de7-93b2-6d9b2997829c",
   "metadata": {},
   "outputs": [
    {
     "data": {
      "text/plain": [
       "int"
      ]
     },
     "execution_count": 48,
     "metadata": {},
     "output_type": "execute_result"
    }
   ],
   "source": [
    "type(a)"
   ]
  },
  {
   "cell_type": "code",
   "execution_count": 50,
   "id": "8f9769a0-8539-48fd-ac70-15153697a595",
   "metadata": {},
   "outputs": [],
   "source": [
    "b = 1.1"
   ]
  },
  {
   "cell_type": "code",
   "execution_count": 51,
   "id": "c24f724e-feba-40d2-812b-bfd462cb4290",
   "metadata": {},
   "outputs": [
    {
     "data": {
      "text/plain": [
       "1.1"
      ]
     },
     "execution_count": 51,
     "metadata": {},
     "output_type": "execute_result"
    }
   ],
   "source": [
    "b"
   ]
  },
  {
   "cell_type": "code",
   "execution_count": 52,
   "id": "5b21c465-5dec-4c70-8a5e-b162539c6805",
   "metadata": {},
   "outputs": [
    {
     "data": {
      "text/plain": [
       "float"
      ]
     },
     "execution_count": 52,
     "metadata": {},
     "output_type": "execute_result"
    }
   ],
   "source": [
    "type(b)"
   ]
  },
  {
   "cell_type": "code",
   "execution_count": 58,
   "id": "543e8a15-6a37-4a3c-83b9-b55771717b59",
   "metadata": {},
   "outputs": [],
   "source": [
    "c = 1 - 4j"
   ]
  },
  {
   "cell_type": "code",
   "execution_count": 59,
   "id": "632c52cd-770a-40ec-be67-e4eaed6bdd9e",
   "metadata": {},
   "outputs": [
    {
     "data": {
      "text/plain": [
       "(1-4j)"
      ]
     },
     "execution_count": 59,
     "metadata": {},
     "output_type": "execute_result"
    }
   ],
   "source": [
    "c"
   ]
  },
  {
   "cell_type": "code",
   "execution_count": 60,
   "id": "1ca09c6b-338e-4ede-82ad-e869f29d2552",
   "metadata": {},
   "outputs": [
    {
     "data": {
      "text/plain": [
       "complex"
      ]
     },
     "execution_count": 60,
     "metadata": {},
     "output_type": "execute_result"
    }
   ],
   "source": [
    "type(c)"
   ]
  },
  {
   "cell_type": "markdown",
   "id": "86b95867-95fe-4a94-9880-d0f8cd33fbaf",
   "metadata": {},
   "source": [
    "### 1.2 boolean\n",
    "True, False로 이루어진 타입"
   ]
  },
  {
   "cell_type": "code",
   "execution_count": 61,
   "id": "e32df689-be71-4d07-94f5-9868b2288077",
   "metadata": {},
   "outputs": [],
   "source": [
    "a = True"
   ]
  },
  {
   "cell_type": "code",
   "execution_count": 62,
   "id": "1a80a9e7-af92-40ff-8ed2-26a1bb5ad7cb",
   "metadata": {},
   "outputs": [
    {
     "data": {
      "text/plain": [
       "True"
      ]
     },
     "execution_count": 62,
     "metadata": {},
     "output_type": "execute_result"
    }
   ],
   "source": [
    "a"
   ]
  },
  {
   "cell_type": "code",
   "execution_count": 63,
   "id": "cc281b7a-9548-43a4-bb27-342c43084049",
   "metadata": {},
   "outputs": [
    {
     "data": {
      "text/plain": [
       "bool"
      ]
     },
     "execution_count": 63,
     "metadata": {},
     "output_type": "execute_result"
    }
   ],
   "source": [
    "type(a)"
   ]
  },
  {
   "cell_type": "code",
   "execution_count": 64,
   "id": "1a6825d9-f31b-4060-bcbb-162a298528d9",
   "metadata": {},
   "outputs": [],
   "source": [
    "b = False"
   ]
  },
  {
   "cell_type": "code",
   "execution_count": 65,
   "id": "67fe9e4f-c479-41a1-a619-b31343047c73",
   "metadata": {},
   "outputs": [
    {
     "data": {
      "text/plain": [
       "False"
      ]
     },
     "execution_count": 65,
     "metadata": {},
     "output_type": "execute_result"
    }
   ],
   "source": [
    "b"
   ]
  },
  {
   "cell_type": "code",
   "execution_count": 66,
   "id": "b98ccbd0-dc9f-4500-9df4-d42997b5ea42",
   "metadata": {},
   "outputs": [
    {
     "data": {
      "text/plain": [
       "bool"
      ]
     },
     "execution_count": 66,
     "metadata": {},
     "output_type": "execute_result"
    }
   ],
   "source": [
    "type(b)"
   ]
  },
  {
   "cell_type": "markdown",
   "id": "788a9a41-787f-4a93-afee-24e7190876aa",
   "metadata": {},
   "source": [
    "### 1.3 None"
   ]
  },
  {
   "cell_type": "code",
   "execution_count": 69,
   "id": "17120eea-3bfd-412d-8078-051ec2269ef3",
   "metadata": {},
   "outputs": [],
   "source": [
    "a = None"
   ]
  },
  {
   "cell_type": "code",
   "execution_count": 70,
   "id": "487cbba0-9005-4761-8d0c-e97f4bdcc1bf",
   "metadata": {},
   "outputs": [],
   "source": [
    "a"
   ]
  },
  {
   "cell_type": "code",
   "execution_count": 71,
   "id": "a1cb656f-5d8f-4381-af19-402bafe4acb1",
   "metadata": {},
   "outputs": [
    {
     "data": {
      "text/plain": [
       "NoneType"
      ]
     },
     "execution_count": 71,
     "metadata": {},
     "output_type": "execute_result"
    }
   ],
   "source": [
    "type(a)"
   ]
  },
  {
   "cell_type": "markdown",
   "id": "f65c5bb7-6002-4730-b8d9-93969bfed53a",
   "metadata": {},
   "source": [
    "### 1.4 String\n",
    "\n",
    "- 문자열은 `'`,`\"` 를 이용하여 표현"
   ]
  },
  {
   "cell_type": "code",
   "execution_count": 72,
   "id": "df658bd3-b9d5-476f-bb2f-f7c18077b356",
   "metadata": {},
   "outputs": [],
   "source": [
    "a = 'hello'"
   ]
  },
  {
   "cell_type": "code",
   "execution_count": 73,
   "id": "94a2d969-300e-4628-8fb0-e0309524f166",
   "metadata": {},
   "outputs": [
    {
     "data": {
      "text/plain": [
       "str"
      ]
     },
     "execution_count": 73,
     "metadata": {},
     "output_type": "execute_result"
    }
   ],
   "source": [
    "type(a)"
   ]
  },
  {
   "cell_type": "code",
   "execution_count": 74,
   "id": "e4686a51-4f00-4dab-a54c-a56db8b0a19c",
   "metadata": {},
   "outputs": [],
   "source": [
    "b = \"world\""
   ]
  },
  {
   "cell_type": "code",
   "execution_count": 75,
   "id": "2a70dd18-15e0-4e56-a0a7-3dc95e4104fc",
   "metadata": {},
   "outputs": [
    {
     "data": {
      "text/plain": [
       "str"
      ]
     },
     "execution_count": 75,
     "metadata": {},
     "output_type": "execute_result"
    }
   ],
   "source": [
    "type(b)"
   ]
  },
  {
   "cell_type": "code",
   "execution_count": 78,
   "id": "91c3de03-e677-49ae-b183-bc81051aaf1d",
   "metadata": {},
   "outputs": [
    {
     "name": "stdout",
     "output_type": "stream",
     "text": [
      " 123\n"
     ]
    },
    {
     "name": "stdout",
     "output_type": "stream",
     "text": [
      "123\n",
      "<class 'str'>\n"
     ]
    }
   ],
   "source": [
    "age = input()\n",
    "print(age)\n",
    "print(type(age))"
   ]
  },
  {
   "cell_type": "code",
   "execution_count": 79,
   "id": "07e4a8df-b4ee-4241-8d5f-497a054070f5",
   "metadata": {},
   "outputs": [
    {
     "ename": "SyntaxError",
     "evalue": "unexpected character after line continuation character (2299208663.py, line 1)",
     "output_type": "error",
     "traceback": [
      "\u001b[0;36m  Cell \u001b[0;32mIn[79], line 1\u001b[0;36m\u001b[0m\n\u001b[0;31m    print('안녕하세요\\'김태주'\\입니다.')\u001b[0m\n\u001b[0m                       ^\u001b[0m\n\u001b[0;31mSyntaxError\u001b[0m\u001b[0;31m:\u001b[0m unexpected character after line continuation character\n"
     ]
    }
   ],
   "source": [
    "print('안녕하세요\\'김태주'\\입니다.')"
   ]
  },
  {
   "cell_type": "code",
   "execution_count": 80,
   "id": "a9ccc533-1d7c-4cf9-8366-833930ec49a9",
   "metadata": {},
   "outputs": [
    {
     "name": "stdout",
     "output_type": "stream",
     "text": [
      "안녕하세요\"김태주\"입니다.\n"
     ]
    }
   ],
   "source": [
    "print('안녕하세요\"김태주\"입니다.')"
   ]
  },
  {
   "cell_type": "code",
   "execution_count": 81,
   "id": "8616404f-2d2d-44d0-b1a1-3ad21ebea059",
   "metadata": {},
   "outputs": [
    {
     "name": "stdout",
     "output_type": "stream",
     "text": [
      "안녕하세요'김태주'입니다.\n"
     ]
    }
   ],
   "source": [
    "print('안녕하세요\\'김태주\\'입니다.')"
   ]
  },
  {
   "cell_type": "code",
   "execution_count": 82,
   "id": "a6039914-e2e9-467b-9fca-a1257c599e5c",
   "metadata": {},
   "outputs": [
    {
     "ename": "SyntaxError",
     "evalue": "incomplete input (2086482017.py, line 1)",
     "output_type": "error",
     "traceback": [
      "\u001b[0;36m  Cell \u001b[0;32mIn[82], line 1\u001b[0;36m\u001b[0m\n\u001b[0;31m    a='''\u001b[0m\n\u001b[0m      ^\u001b[0m\n\u001b[0;31mSyntaxError\u001b[0m\u001b[0;31m:\u001b[0m incomplete input\n"
     ]
    }
   ],
   "source": [
    "a='''"
   ]
  },
  {
   "cell_type": "code",
   "execution_count": 83,
   "id": "6e1738b8-a2c8-4e26-9f15-f2f37e021ef0",
   "metadata": {},
   "outputs": [
    {
     "ename": "SyntaxError",
     "evalue": "unterminated triple-quoted string literal (detected at line 3) (2158756926.py, line 2)",
     "output_type": "error",
     "traceback": [
      "\u001b[0;36m  Cell \u001b[0;32mIn[83], line 2\u001b[0;36m\u001b[0m\n\u001b[0;31m    '''\u001b[0m\n\u001b[0m    ^\u001b[0m\n\u001b[0;31mSyntaxError\u001b[0m\u001b[0;31m:\u001b[0m unterminated triple-quoted string literal (detected at line 3)\n"
     ]
    }
   ],
   "source": [
    "a =\n",
    "'''\n",
    "안녕하세요'김태주'입니다."
   ]
  },
  {
   "cell_type": "code",
   "execution_count": 84,
   "id": "50b0d125-00d4-4396-b3b2-1f5f32e0143d",
   "metadata": {},
   "outputs": [
    {
     "name": "stdout",
     "output_type": "stream",
     "text": [
      "\n",
      "안녕하세 '김태주'입니다.\n",
      "여러줄도 작성 가능하지.\n",
      "\n"
     ]
    }
   ],
   "source": [
    "a = '''\n",
    "안녕하세 '김태주'입니다.\n",
    "여러줄도 작성 가능하지.\n",
    "'''\n",
    "print(a)"
   ]
  },
  {
   "cell_type": "code",
   "execution_count": 86,
   "id": "25e4fc0c-9cc4-4e36-9b74-9b2641e1302c",
   "metadata": {},
   "outputs": [
    {
     "name": "stdout",
     "output_type": "stream",
     "text": [
      "안녕하세요. \n",
      "김태주입니다. \t들여쓰기 이스케이프 문자열입니다.\n"
     ]
    }
   ],
   "source": [
    "print('안녕하세요. \\n김태주입니다. \\t들여쓰기 이스케이프 문자열입니다.')"
   ]
  },
  {
   "cell_type": "markdown",
   "id": "361a3bfc-8921-4e40-a172-526b897e6fdd",
   "metadata": {},
   "source": [
    "#### string interpolation\n",
    "1. "
   ]
  },
  {
   "cell_type": "code",
   "execution_count": null,
   "id": "efda108a-f6a8-4975-9e27-5afeaedf6fc6",
   "metadata": {},
   "outputs": [],
   "source": []
  },
  {
   "cell_type": "code",
   "execution_count": 89,
   "id": "a21770f4-aee3-4fdb-9650-ae201d988252",
   "metadata": {},
   "outputs": [
    {
     "name": "stdout",
     "output_type": "stream",
     "text": [
      "홍길동은 10살입니다.\n"
     ]
    }
   ],
   "source": [
    "age = 10\n",
    "print(f'홍길동은 {age}살입니다.')"
   ]
  },
  {
   "cell_type": "code",
   "execution_count": null,
   "id": "45e93b15-0bca-4bfe-b204-171be5a19181",
   "metadata": {},
   "outputs": [],
   "source": []
  },
  {
   "cell_type": "markdown",
   "id": "3b249d83-1d91-403f-bb04-5f14a33e3f76",
   "metadata": {},
   "source": [
    "ㄹㅇㄹㅇㄹ"
   ]
  },
  {
   "cell_type": "code",
   "execution_count": 95,
   "id": "c3f89c08-f6b1-4743-a15f-e2effae61842",
   "metadata": {},
   "outputs": [],
   "source": [
    "a = 2\n",
    "b = 3"
   ]
  },
  {
   "cell_type": "code",
   "execution_count": null,
   "id": "795108e9-8ca8-435e-ba58-148ad20435a2",
   "metadata": {},
   "outputs": [],
   "source": []
  },
  {
   "cell_type": "code",
   "execution_count": 91,
   "id": "a66ce080-5740-42ab-bdab-9644e21cc8a9",
   "metadata": {},
   "outputs": [
    {
     "name": "stdout",
     "output_type": "stream",
     "text": [
      "5\n"
     ]
    }
   ],
   "source": [
    "print (a + b)"
   ]
  },
  {
   "cell_type": "code",
   "execution_count": 92,
   "id": "19320d99-3849-4503-b890-d696002a9ee2",
   "metadata": {},
   "outputs": [
    {
     "name": "stdout",
     "output_type": "stream",
     "text": [
      "-1\n",
      "6\n"
     ]
    }
   ],
   "source": [
    "print (a - b)\n",
    "print (a * b)"
   ]
  },
  {
   "cell_type": "code",
   "execution_count": 93,
   "id": "2918d81b-b20f-44a3-b0a3-8046a2db0c61",
   "metadata": {},
   "outputs": [
    {
     "name": "stdout",
     "output_type": "stream",
     "text": [
      "0.6666666666666666\n",
      "8\n"
     ]
    }
   ],
   "source": [
    "print (a / b)\n",
    "print (a ** b)"
   ]
  },
  {
   "cell_type": "code",
   "execution_count": 98,
   "id": "41874583-39c2-4080-ae7c-54552111bfbb",
   "metadata": {},
   "outputs": [
    {
     "name": "stdout",
     "output_type": "stream",
     "text": [
      "2\n",
      "1\n"
     ]
    }
   ],
   "source": [
    "print (a // b)\n",
    "print (a % b)"
   ]
  },
  {
   "cell_type": "markdown",
   "id": "aa416501-84ab-4829-9577-5ff9a03ff7b4",
   "metadata": {},
   "source": [
    "### 2.2\n",
    "비교연산자"
   ]
  },
  {
   "cell_type": "code",
   "execution_count": 100,
   "id": "3ddf9f8a-d50e-4096-9e86-bdcc5396231d",
   "metadata": {},
   "outputs": [],
   "source": [
    "a = 5\n",
    "b = 10"
   ]
  },
  {
   "cell_type": "raw",
   "id": "5d40ce32-caaa-410b-b4c3-f275f48f71b4",
   "metadata": {},
   "source": []
  },
  {
   "cell_type": "code",
   "execution_count": 102,
   "id": "1fd88c0c-dafa-4f5d-9b01-d9614cad6566",
   "metadata": {},
   "outputs": [
    {
     "name": "stdout",
     "output_type": "stream",
     "text": [
      "False\n",
      "True\n",
      "False\n",
      "True\n"
     ]
    }
   ],
   "source": [
    "print(a > b)\n",
    "print(a < b)\n",
    "print(a >= b)\n",
    "print(a <= b)"
   ]
  },
  {
   "cell_type": "code",
   "execution_count": 104,
   "id": "fd7cf997-1294-4a05-8870-209074e10f08",
   "metadata": {},
   "outputs": [
    {
     "name": "stdout",
     "output_type": "stream",
     "text": [
      "False\n",
      "True\n"
     ]
    }
   ],
   "source": [
    "print(a == b)\n",
    "print(a != b)"
   ]
  },
  {
   "cell_type": "code",
   "execution_count": 106,
   "id": "2a9133e2-5c98-4ec1-9b55-8d5b08c9eee8",
   "metadata": {},
   "outputs": [
    {
     "name": "stdout",
     "output_type": "stream",
     "text": [
      "True\n",
      "False\n"
     ]
    }
   ],
   "source": [
    "print('hi' == 'hi')\n",
    "print('Hi' == 'hi')"
   ]
  },
  {
   "cell_type": "markdown",
   "id": "48878c4a-bd4a-4a7a-b1b3-f853ef5745e4",
   "metadata": {},
   "source": []
  },
  {
   "cell_type": "markdown",
   "id": "4d79bf6c-fa98-44be-b2ca-1235a1fcfdda",
   "metadata": {},
   "source": []
  },
  {
   "cell_type": "markdown",
   "id": "8a29cabe-e435-4681-bcff-b6d538878b4a",
   "metadata": {},
   "source": []
  },
  {
   "cell_type": "markdown",
   "id": "04edf8ef-bace-40e9-9184-517befd93f46",
   "metadata": {},
   "source": [
    "### 2.3 논리 연산자\n",
    "\n",
    "- and : 양쪽 모두 True일 때, True 반환\n",
    "- or : 양쪽 모두 False일 때, False 반환\n",
    "- not : 반대값 출력"
   ]
  },
  {
   "cell_type": "code",
   "execution_count": 107,
   "id": "b05a55ef-f420-4542-b8a7-fce7f8e9b71e",
   "metadata": {},
   "outputs": [
    {
     "name": "stdout",
     "output_type": "stream",
     "text": [
      "True\n"
     ]
    }
   ],
   "source": [
    "print(True and True)"
   ]
  },
  {
   "cell_type": "code",
   "execution_count": 108,
   "id": "dadbf46f-ba55-4e60-82bd-66f87a1ce3ab",
   "metadata": {},
   "outputs": [
    {
     "name": "stdout",
     "output_type": "stream",
     "text": [
      "False\n"
     ]
    }
   ],
   "source": [
    "print(True and False)"
   ]
  },
  {
   "cell_type": "code",
   "execution_count": 109,
   "id": "f584ad39-0ec4-475c-9188-0f09a4192f36",
   "metadata": {},
   "outputs": [
    {
     "name": "stdout",
     "output_type": "stream",
     "text": [
      "False\n"
     ]
    }
   ],
   "source": [
    "print(False and True)"
   ]
  },
  {
   "cell_type": "code",
   "execution_count": 111,
   "id": "ee91db30-fe4e-4466-82f0-b080b515193d",
   "metadata": {},
   "outputs": [
    {
     "name": "stdout",
     "output_type": "stream",
     "text": [
      "False\n"
     ]
    }
   ],
   "source": [
    "print(False and False)"
   ]
  },
  {
   "cell_type": "code",
   "execution_count": 112,
   "id": "0d1d1b5f-b987-4731-9dfa-a35d10e7f4b4",
   "metadata": {},
   "outputs": [
    {
     "name": "stdout",
     "output_type": "stream",
     "text": [
      "True\n",
      "True\n",
      "True\n",
      "False\n"
     ]
    }
   ],
   "source": [
    "print(True or True)\n",
    "print(True or False)\n",
    "print(False or True)\n",
    "print(False or False)"
   ]
  },
  {
   "cell_type": "code",
   "execution_count": 113,
   "id": "edeba9be-ff47-415c-8a24-bf9f73a3b9f8",
   "metadata": {},
   "outputs": [
    {
     "name": "stdout",
     "output_type": "stream",
     "text": [
      "False\n"
     ]
    }
   ],
   "source": [
    "print(not True)"
   ]
  },
  {
   "cell_type": "code",
   "execution_count": 114,
   "id": "5b803045-1c50-48d5-a7a9-43a075f9a40b",
   "metadata": {},
   "outputs": [
    {
     "name": "stdout",
     "output_type": "stream",
     "text": [
      "False\n"
     ]
    }
   ],
   "source": [
    "result = True\n",
    "print(not result)"
   ]
  },
  {
   "cell_type": "code",
   "execution_count": 117,
   "id": "9b503c16-0e71-4ae5-9bcb-a61523c673a4",
   "metadata": {},
   "outputs": [
    {
     "name": "stdout",
     "output_type": "stream",
     "text": [
      "1\n",
      "0\n",
      "0\n",
      "0\n"
     ]
    }
   ],
   "source": [
    "# 단축평가\n",
    "\n",
    "print(3 and 5 and 7 and 1)\n",
    "print(3 and 0)\n",
    "print(0 and 3)\n",
    "print(0 and 0)"
   ]
  },
  {
   "cell_type": "code",
   "execution_count": 118,
   "id": "edebbf45-bf2e-4e48-9a94-a239fe46a7cf",
   "metadata": {},
   "outputs": [
    {
     "name": "stdout",
     "output_type": "stream",
     "text": [
      "3\n",
      "3\n",
      "3\n",
      "0\n"
     ]
    }
   ],
   "source": [
    "# 단축평가\n",
    "\n",
    "print(3 or 5)\n",
    "print(3 or 0)\n",
    "print(0 or 3)\n",
    "print(0 or 0)"
   ]
  },
  {
   "cell_type": "markdown",
   "id": "e7859d6d-1733-46bd-b770-62f821245052",
   "metadata": {},
   "source": [
    "### 복합 연산자"
   ]
  },
  {
   "cell_type": "code",
   "execution_count": 119,
   "id": "fff2f310-dbc6-47cf-bddc-fb040e9d2769",
   "metadata": {},
   "outputs": [],
   "source": [
    "a = 1\n",
    "b = 2"
   ]
  },
  {
   "cell_type": "code",
   "execution_count": 124,
   "id": "e11e550e-7d87-4573-aeaa-dec96acef32a",
   "metadata": {},
   "outputs": [],
   "source": [
    "a = a + b\n",
    "a = a - b\n",
    "a = a * b\n",
    "a = a / b"
   ]
  },
  {
   "cell_type": "code",
   "execution_count": 126,
   "id": "b0180af8-1275-4087-b0fc-8436a7ffb99d",
   "metadata": {},
   "outputs": [],
   "source": [
    "a += b\n",
    "a -= b\n",
    "a *= b\n",
    "a /= b\n",
    "a //= b\n",
    "a %= b\n",
    "a **= b"
   ]
  },
  {
   "cell_type": "markdown",
   "id": "a251c365-b9a3-4292-be45-09f04525d36a",
   "metadata": {},
   "source": [
    "### 2.5 기타 연산자"
   ]
  },
  {
   "cell_type": "code",
   "execution_count": 136,
   "id": "4e9eac03-5cb7-44ca-8830-623f24b5f642",
   "metadata": {},
   "outputs": [],
   "source": [
    "a = 'hi'\n",
    "b = 'hello'"
   ]
  },
  {
   "cell_type": "code",
   "execution_count": 128,
   "id": "454f6698-edfd-4aa2-833a-d2e0939e81e9",
   "metadata": {},
   "outputs": [
    {
     "name": "stdout",
     "output_type": "stream",
     "text": [
      "hihello\n"
     ]
    }
   ],
   "source": [
    "# concatenation\n",
    "print (a+b)"
   ]
  },
  {
   "cell_type": "code",
   "execution_count": 139,
   "id": "3bd15ba9-a135-47c5-a3a1-b896093f948a",
   "metadata": {},
   "outputs": [],
   "source": [
    "a = [1, 2, 3]\n",
    "b = [4, 5, 6]"
   ]
  },
  {
   "cell_type": "code",
   "execution_count": 140,
   "id": "a88509cb-c572-44bb-bc9a-0817d0425b9d",
   "metadata": {},
   "outputs": [
    {
     "name": "stdout",
     "output_type": "stream",
     "text": [
      "[1, 2, 3, 4, 5, 6]\n"
     ]
    }
   ],
   "source": [
    "print(a + b)"
   ]
  },
  {
   "cell_type": "code",
   "execution_count": 142,
   "id": "967f441e-612e-4c58-8c2a-bf574374ec82",
   "metadata": {},
   "outputs": [
    {
     "name": "stdout",
     "output_type": "stream",
     "text": [
      "True\n",
      "False\n"
     ]
    }
   ],
   "source": [
    "# containment\n",
    "print(1 in a)\n",
    "print(10 in a)"
   ]
  },
  {
   "cell_type": "code",
   "execution_count": 144,
   "id": "4fe76a76-dd36-4cca-a3db-6944eb9c7d5f",
   "metadata": {},
   "outputs": [
    {
     "name": "stdout",
     "output_type": "stream",
     "text": [
      "True\n",
      "True\n"
     ]
    }
   ],
   "source": [
    "# identity\n",
    "\n",
    "a = 5\n",
    "b = 5\n",
    "\n",
    "print(a == b)\n",
    "print(a is b)"
   ]
  },
  {
   "cell_type": "code",
   "execution_count": 152,
   "id": "9354dbcd-21a6-4c91-9c8d-054aec34f982",
   "metadata": {},
   "outputs": [
    {
     "name": "stdout",
     "output_type": "stream",
     "text": [
      "True\n",
      "False\n"
     ]
    }
   ],
   "source": [
    "a = -6\n",
    "b = -6\n",
    "\n",
    "print(a == b)\n",
    "print(a is b)"
   ]
  },
  {
   "cell_type": "markdown",
   "id": "abc52627-743f-4c27-9ff2-4fe0e1afa341",
   "metadata": {},
   "source": [
    "### 우선순위\n",
    "\n",
    "0. ()를 통해 그룹\n",
    "1. **\n",
    "2. 산술연산자(*, /)\n",
    "3. 산술연산자(+, -)\n",
    "4. 비교연산자, in, is\n",
    "5. not\n",
    "6. and\n",
    "7. or"
   ]
  },
  {
   "cell_type": "code",
   "execution_count": 154,
   "id": "424e2dbf-f2b6-4c6f-99d6-43644acd3a6f",
   "metadata": {},
   "outputs": [
    {
     "name": "stdout",
     "output_type": "stream",
     "text": [
      "-81\n",
      "81\n"
     ]
    }
   ],
   "source": [
    "print(-3 ** 4)\n",
    "print((-3) ** 4)"
   ]
  },
  {
   "cell_type": "markdown",
   "id": "d7419dd7-4e31-4333-8d0c-250045a6447a",
   "metadata": {},
   "source": [
    "## 3. 형변환\n",
    "### 3.1 암시적 형변환"
   ]
  },
  {
   "cell_type": "code",
   "execution_count": 155,
   "id": "b482ff0c-c487-4845-9d97-e00aa9cd0ce0",
   "metadata": {},
   "outputs": [],
   "source": [
    "a = True\n",
    "b = False\n",
    "c = 1"
   ]
  },
  {
   "cell_type": "code",
   "execution_count": 156,
   "id": "8408811e-0edc-4077-af20-040dc52507ba",
   "metadata": {},
   "outputs": [
    {
     "name": "stdout",
     "output_type": "stream",
     "text": [
      "1\n",
      "-1\n"
     ]
    }
   ],
   "source": [
    "print(a + b)\n",
    "print(b - c)"
   ]
  },
  {
   "cell_type": "code",
   "execution_count": 159,
   "id": "2aa012a1-7583-4556-b66d-bbb227b5c8f5",
   "metadata": {},
   "outputs": [],
   "source": [
    "int_num = 3\n",
    "float_num = 3.3\n",
    "complex_num = 3 + 3j"
   ]
  },
  {
   "cell_type": "code",
   "execution_count": 160,
   "id": "1df1215a-50e4-4e6c-9fe3-af698b09dcb1",
   "metadata": {},
   "outputs": [
    {
     "name": "stdout",
     "output_type": "stream",
     "text": [
      "6.3\n"
     ]
    }
   ],
   "source": [
    "print(int_num + float_num)"
   ]
  },
  {
   "cell_type": "code",
   "execution_count": 161,
   "id": "54dd451c-039d-4866-a1d1-1d67dddb8d1f",
   "metadata": {},
   "outputs": [
    {
     "data": {
      "text/plain": [
       "float"
      ]
     },
     "execution_count": 161,
     "metadata": {},
     "output_type": "execute_result"
    }
   ],
   "source": [
    "type(int_num + float_num)"
   ]
  },
  {
   "cell_type": "code",
   "execution_count": 162,
   "id": "67978961-c83d-493c-82ab-9d3f2ff72f49",
   "metadata": {},
   "outputs": [
    {
     "data": {
      "text/plain": [
       "complex"
      ]
     },
     "execution_count": 162,
     "metadata": {},
     "output_type": "execute_result"
    }
   ],
   "source": [
    "type(int_num + float_num + complex_num)"
   ]
  },
  {
   "cell_type": "code",
   "execution_count": 164,
   "id": "488c6810-cb0a-4030-bced-dffebcc6c030",
   "metadata": {},
   "outputs": [
    {
     "name": "stdout",
     "output_type": "stream",
     "text": [
      "(6.3+3j)\n"
     ]
    }
   ],
   "source": [
    "print(float_num + complex_num)"
   ]
  },
  {
   "cell_type": "markdown",
   "id": "b2e08053-5cc0-4031-bad5-e8c5f837679e",
   "metadata": {},
   "source": [
    "### 3.2 명시적 형변환\n",
    "\n",
    "- int() : string, float => int\n",
    "- float() : string, int => float\n",
    "- str() : int, float => string\n",
    "- bool() : int, float => bool"
   ]
  },
  {
   "cell_type": "code",
   "execution_count": 165,
   "id": "ea0c33ba-11a8-486f-9224-c6bab44b1f55",
   "metadata": {},
   "outputs": [],
   "source": [
    "a = 1\n",
    "b = '번'"
   ]
  },
  {
   "cell_type": "code",
   "execution_count": 166,
   "id": "a6aa625c-bb7c-4c98-b520-76ca9db82589",
   "metadata": {},
   "outputs": [
    {
     "ename": "TypeError",
     "evalue": "unsupported operand type(s) for +: 'int' and 'str'",
     "output_type": "error",
     "traceback": [
      "\u001b[0;31m---------------------------------------------------------------------------\u001b[0m",
      "\u001b[0;31mTypeError\u001b[0m                                 Traceback (most recent call last)",
      "Cell \u001b[0;32mIn[166], line 1\u001b[0m\n\u001b[0;32m----> 1\u001b[0m \u001b[38;5;28mprint\u001b[39m(\u001b[43ma\u001b[49m\u001b[43m \u001b[49m\u001b[38;5;241;43m+\u001b[39;49m\u001b[43m \u001b[49m\u001b[43mb\u001b[49m)\n",
      "\u001b[0;31mTypeError\u001b[0m: unsupported operand type(s) for +: 'int' and 'str'"
     ]
    }
   ],
   "source": [
    "print(a + b)"
   ]
  },
  {
   "cell_type": "code",
   "execution_count": 167,
   "id": "7fc09d49-8cb3-4f50-9b11-fd6a8c48fbfe",
   "metadata": {},
   "outputs": [
    {
     "name": "stdout",
     "output_type": "stream",
     "text": [
      "1번\n"
     ]
    }
   ],
   "source": [
    "print(str(a) + b)"
   ]
  },
  {
   "cell_type": "code",
   "execution_count": 172,
   "id": "6fbcfa7f-6cfa-41dd-872b-7f34a1e091a3",
   "metadata": {},
   "outputs": [
    {
     "name": "stdout",
     "output_type": "stream",
     "text": [
      "<class 'str'>\n"
     ]
    },
    {
     "ename": "ValueError",
     "evalue": "invalid literal for int() with base 10: '1th'",
     "output_type": "error",
     "traceback": [
      "\u001b[0;31m---------------------------------------------------------------------------\u001b[0m",
      "\u001b[0;31mValueError\u001b[0m                                Traceback (most recent call last)",
      "Cell \u001b[0;32mIn[172], line 3\u001b[0m\n\u001b[1;32m      1\u001b[0m a \u001b[38;5;241m=\u001b[39m \u001b[38;5;124m'\u001b[39m\u001b[38;5;124m1th\u001b[39m\u001b[38;5;124m'\u001b[39m\n\u001b[1;32m      2\u001b[0m \u001b[38;5;28mprint\u001b[39m(\u001b[38;5;28mtype\u001b[39m(a))\n\u001b[0;32m----> 3\u001b[0m \u001b[38;5;28mprint\u001b[39m(\u001b[38;5;28mtype\u001b[39m(\u001b[38;5;28;43mint\u001b[39;49m\u001b[43m(\u001b[49m\u001b[43ma\u001b[49m\u001b[43m)\u001b[49m))\n\u001b[1;32m      4\u001b[0m \u001b[38;5;28mprint\u001b[39m(\u001b[38;5;28mtype\u001b[39m(\u001b[38;5;28mint\u001b[39m(a)))\n",
      "\u001b[0;31mValueError\u001b[0m: invalid literal for int() with base 10: '1th'"
     ]
    }
   ],
   "source": [
    "a = '1th'\n",
    "print(type(a))\n",
    "print(type(int(a)))\n",
    "print(type(int(a)))"
   ]
  },
  {
   "cell_type": "code",
   "execution_count": 174,
   "id": "8cb230da-c7bb-4a81-83b6-f521602d0064",
   "metadata": {},
   "outputs": [
    {
     "name": "stdout",
     "output_type": "stream",
     "text": [
      "3.3\n"
     ]
    }
   ],
   "source": [
    "a = '3.3'\n",
    "print(float(a))"
   ]
  },
  {
   "cell_type": "code",
   "execution_count": 179,
   "id": "71c62672-4174-4447-a1f3-2449a6468690",
   "metadata": {},
   "outputs": [
    {
     "name": "stdout",
     "output_type": "stream",
     "text": [
      "True\n",
      "False\n"
     ]
    }
   ],
   "source": [
    "a = 'd'\n",
    "b = 0\n",
    "\n",
    "print(bool(a))\n",
    "print(bool(b))"
   ]
  },
  {
   "cell_type": "code",
   "execution_count": 184,
   "id": "ba553984-d4c3-446f-9353-ec651c3e44e3",
   "metadata": {},
   "outputs": [
    {
     "name": "stdout",
     "output_type": "stream",
     "text": [
      "False\n",
      "True\n"
     ]
    }
   ],
   "source": [
    "print(bool([]))\n",
    "print(bool([1, 2, 3]))"
   ]
  },
  {
   "cell_type": "markdown",
   "id": "0a7712ec-dc04-4cb1-9cca-48b569de1b88",
   "metadata": {},
   "source": [
    "## 4. 시퀀스 자료형\n",
    "\n",
    "시퀀스는 데이터의 순서대로 나열된 자료구조. (순서대로 나열되었다는 것은 정렬된 것과 다르다.)\n",
    "\n",
    "1. List\n",
    "2. Tuple\n",
    "3. Range\n",
    "4. String"
   ]
  },
  {
   "cell_type": "markdown",
   "id": "9ac9443c-c110-4146-80b7-b6b6358b887e",
   "metadata": {},
   "source": [
    "### 4.1 List (리스트,배열)\n",
    "\n",
    "- 선언 : 변수이름 = [value1, value2, value3 ...]\n",
    "- 접근 : 변수이름[index]"
   ]
  },
  {
   "cell_type": "code",
   "execution_count": 185,
   "id": "35ce5b8f-65e0-4ea7-864d-1df39aedea52",
   "metadata": {},
   "outputs": [],
   "source": [
    "l = []"
   ]
  },
  {
   "cell_type": "code",
   "execution_count": 186,
   "id": "043ee081-af07-4bb7-a381-c9c5de85e267",
   "metadata": {},
   "outputs": [
    {
     "name": "stdout",
     "output_type": "stream",
     "text": [
      "[]\n"
     ]
    }
   ],
   "source": [
    "print(l)"
   ]
  },
  {
   "cell_type": "code",
   "execution_count": 187,
   "id": "dd0cf13b-12ba-4311-9aab-d5877cc62d7e",
   "metadata": {},
   "outputs": [
    {
     "name": "stdout",
     "output_type": "stream",
     "text": [
      "<class 'list'>\n"
     ]
    }
   ],
   "source": [
    "print(type(l))"
   ]
  },
  {
   "cell_type": "code",
   "execution_count": 188,
   "id": "707c6afb-2e21-4ac9-ae16-1032fe1701f8",
   "metadata": {},
   "outputs": [
    {
     "name": "stdout",
     "output_type": "stream",
     "text": [
      "['서울', '대전', '부산']\n"
     ]
    }
   ],
   "source": [
    "location = ['서울', '대전', '부산']\n",
    "print(location)"
   ]
  },
  {
   "cell_type": "code",
   "execution_count": 194,
   "id": "e7afc40a-4919-41ce-998e-7fa2c32c2567",
   "metadata": {},
   "outputs": [
    {
     "name": "stdout",
     "output_type": "stream",
     "text": [
      "부산\n",
      "['서울', '광주', '부산']\n"
     ]
    }
   ],
   "source": [
    "print(location[2])\n",
    "\n",
    "location[1] = '광주'\n",
    "print(location)"
   ]
  },
  {
   "cell_type": "markdown",
   "id": "664f0802-ffb1-4464-ad10-6d85a40371b2",
   "metadata": {},
   "source": [
    "### 4.2 Tuple (튜플)\n",
    "- 선언 : 변수이름 = (value1, value2, value3)\n",
    "- 접근 : 변수이름[index]\n",
    "- 리스트와 유사하지만 수정 불가능(immutable)이다."
   ]
  },
  {
   "cell_type": "code",
   "execution_count": 195,
   "id": "f95f6282-7c3f-4bf8-8479-aa20c2c61735",
   "metadata": {},
   "outputs": [],
   "source": [
    "numbers = (123, 456, 789)"
   ]
  },
  {
   "cell_type": "code",
   "execution_count": 196,
   "id": "3bdc0852-316c-403d-8a2b-ed36d49f7bf2",
   "metadata": {},
   "outputs": [
    {
     "ename": "TypeError",
     "evalue": "'tuple' object does not support item assignment",
     "output_type": "error",
     "traceback": [
      "\u001b[0;31m---------------------------------------------------------------------------\u001b[0m",
      "\u001b[0;31mTypeError\u001b[0m                                 Traceback (most recent call last)",
      "Cell \u001b[0;32mIn[196], line 1\u001b[0m\n\u001b[0;32m----> 1\u001b[0m \u001b[43mnumbers\u001b[49m\u001b[43m[\u001b[49m\u001b[38;5;241;43m1\u001b[39;49m\u001b[43m]\u001b[49m \u001b[38;5;241m=\u001b[39m \u001b[38;5;241m654\u001b[39m\n",
      "\u001b[0;31mTypeError\u001b[0m: 'tuple' object does not support item assignment"
     ]
    }
   ],
   "source": [
    "numbers[1] = 654"
   ]
  },
  {
   "cell_type": "code",
   "execution_count": 197,
   "id": "2186de4f-038d-401d-9a5d-28b678437474",
   "metadata": {},
   "outputs": [
    {
     "name": "stdout",
     "output_type": "stream",
     "text": [
      "1 2\n"
     ]
    }
   ],
   "source": [
    "x, y = (1, 2)\n",
    "print(x, y)"
   ]
  },
  {
   "cell_type": "code",
   "execution_count": 198,
   "id": "28a2966d-01a8-40c0-b8c4-615f93b0d61a",
   "metadata": {},
   "outputs": [
    {
     "name": "stdout",
     "output_type": "stream",
     "text": [
      "1 2\n"
     ]
    }
   ],
   "source": [
    "x, y = [1, 2]\n",
    "print(x, y)"
   ]
  },
  {
   "cell_type": "code",
   "execution_count": 199,
   "id": "652e6d57-c539-4007-bc4a-4be6d2c5df46",
   "metadata": {},
   "outputs": [],
   "source": [
    "x, y = 1, 2"
   ]
  },
  {
   "cell_type": "code",
   "execution_count": 200,
   "id": "291d89c9-8ebe-4c6c-a199-37ada18b045b",
   "metadata": {},
   "outputs": [
    {
     "name": "stdout",
     "output_type": "stream",
     "text": [
      "1 2\n"
     ]
    }
   ],
   "source": [
    "print(x, y)"
   ]
  },
  {
   "cell_type": "code",
   "execution_count": 201,
   "id": "644445ed-2804-42c3-97d5-5d9d3d25744e",
   "metadata": {},
   "outputs": [
    {
     "name": "stdout",
     "output_type": "stream",
     "text": [
      "2 1\n"
     ]
    }
   ],
   "source": [
    "x, y = y, x\n",
    "print(x, y)"
   ]
  },
  {
   "cell_type": "markdown",
   "id": "07c77399-e5e3-428e-99f0-602d5a43dc19",
   "metadata": {},
   "source": [
    "### 4.3 Range\n",
    "\n",
    "- range(n) : 0부터 n-1까지\n",
    "- range(n, m) : n부터 m-1까지\n",
    "- range(n, m, s) : n부터 m-1까지 s 만큼 증가하는 범위"
   ]
  },
  {
   "cell_type": "code",
   "execution_count": 203,
   "id": "2d20712f-6e69-43e2-affe-48a70e787e15",
   "metadata": {},
   "outputs": [
    {
     "name": "stdout",
     "output_type": "stream",
     "text": [
      "4\n"
     ]
    }
   ],
   "source": [
    "lotto = range(45)\n",
    "print(lotto[4])"
   ]
  },
  {
   "cell_type": "code",
   "execution_count": 204,
   "id": "2813b99b-0890-42eb-8132-392042ad5187",
   "metadata": {},
   "outputs": [
    {
     "name": "stdout",
     "output_type": "stream",
     "text": [
      "[0, 1, 2, 3, 4, 5, 6, 7, 8, 9, 10, 11, 12, 13, 14, 15, 16, 17, 18, 19, 20, 21, 22, 23, 24, 25, 26, 27, 28, 29, 30, 31, 32, 33, 34, 35, 36, 37, 38, 39, 40, 41, 42, 43, 44]\n"
     ]
    }
   ],
   "source": [
    "print(list(lotto))"
   ]
  },
  {
   "cell_type": "code",
   "execution_count": 208,
   "id": "e9442d62-2498-40fb-99b2-a21e997be785",
   "metadata": {},
   "outputs": [
    {
     "name": "stdout",
     "output_type": "stream",
     "text": [
      "[0, 1, 2, 3, 4]\n"
     ]
    }
   ],
   "source": [
    "lotto = range(5)\n",
    "print(list(lotto))"
   ]
  },
  {
   "cell_type": "code",
   "execution_count": 206,
   "id": "3dff6d1c-a768-477f-b77c-413d98555cc2",
   "metadata": {},
   "outputs": [
    {
     "name": "stdout",
     "output_type": "stream",
     "text": [
      "range(5, 10)\n",
      "[5, 6, 7, 8, 9]\n"
     ]
    }
   ],
   "source": [
    "numbers = range(5, 10)\n",
    "print(numbers)\n",
    "print(list(numbers))"
   ]
  },
  {
   "cell_type": "code",
   "execution_count": 207,
   "id": "8e31f756-78a8-4882-993a-e570961bdc5c",
   "metadata": {},
   "outputs": [
    {
     "name": "stdout",
     "output_type": "stream",
     "text": [
      "range(2, 20, 2)\n",
      "[2, 4, 6, 8, 10, 12, 14, 16, 18]\n"
     ]
    }
   ],
   "source": [
    "even = range(2, 20, 2)\n",
    "print(even)\n",
    "print(list(even))"
   ]
  },
  {
   "cell_type": "code",
   "execution_count": 216,
   "id": "2c84d14e-aff8-438e-aeda-0971d081969f",
   "metadata": {},
   "outputs": [
    {
     "name": "stdout",
     "output_type": "stream",
     "text": [
      "range(0, -10, -1)\n"
     ]
    }
   ],
   "source": [
    "numbers = range(0, -10, -1)\n",
    "print(numbers)"
   ]
  },
  {
   "cell_type": "code",
   "execution_count": 217,
   "id": "b9bf4019-a70b-4dc8-94f8-a88ea39d3710",
   "metadata": {},
   "outputs": [
    {
     "name": "stdout",
     "output_type": "stream",
     "text": [
      "[0, -1, -2, -3, -4, -5, -6, -7, -8, -9]\n"
     ]
    }
   ],
   "source": [
    "print(list(numbers))"
   ]
  },
  {
   "cell_type": "code",
   "execution_count": 215,
   "id": "a63517d6-101a-47a3-970e-ef1440f9b9c3",
   "metadata": {},
   "outputs": [
    {
     "name": "stdout",
     "output_type": "stream",
     "text": [
      "[]\n"
     ]
    }
   ],
   "source": [
    "print(list(numbers))"
   ]
  },
  {
   "cell_type": "markdown",
   "id": "67f997bc-3432-4c1e-a676-ec1acf5617b3",
   "metadata": {},
   "source": [
    "### 4.5"
   ]
  },
  {
   "cell_type": "code",
   "execution_count": 225,
   "id": "94e64f38-8ec4-4ddd-a00b-ec1669d70701",
   "metadata": {},
   "outputs": [],
   "source": [
    "my_list = [1, 2, 3, 4, 5]\n",
    "my_tuple = (1, 2, 3, 4, 5)\n",
    "my_range = range(5)\n",
    "my_string = '12345'"
   ]
  },
  {
   "cell_type": "code",
   "execution_count": 226,
   "id": "543eb4cf-2a5d-4a48-bc47-012fd3dd5853",
   "metadata": {},
   "outputs": [
    {
     "name": "stdout",
     "output_type": "stream",
     "text": [
      "1\n",
      "1\n",
      "0\n",
      "1\n"
     ]
    }
   ],
   "source": [
    "# indexing\n",
    "print(my_list[0])\n",
    "print(my_tuple[0])\n",
    "print(my_range[0])\n",
    "print(my_string[0])"
   ]
  },
  {
   "cell_type": "code",
   "execution_count": 234,
   "id": "e30b233b-cf78-4193-b993-27afafffb904",
   "metadata": {},
   "outputs": [
    {
     "name": "stdout",
     "output_type": "stream",
     "text": [
      "[2, 3]\n",
      "(2, 3)\n",
      "range(1, 3)\n",
      "23\n",
      "1234\n"
     ]
    }
   ],
   "source": [
    "# slicing\n",
    "print(my_list[1:3])\n",
    "print(my_tuple[1:3])\n",
    "print(my_range[1:3])\n",
    "print(my_string[1:3])\n",
    "\n",
    "print(my_string[0:4])"
   ]
  },
  {
   "cell_type": "code",
   "execution_count": 238,
   "id": "a8b6475f-4ec1-4702-a69b-655e71d251ee",
   "metadata": {},
   "outputs": [
    {
     "name": "stdout",
     "output_type": "stream",
     "text": [
      "True\n",
      "True\n",
      "True\n"
     ]
    }
   ],
   "source": [
    "# in\n",
    "print('1' in my_string)\n",
    "print(1 in my_list and 1 in my_range)\n",
    "\n",
    "# not in\n",
    "print(10 not in my_list)"
   ]
  },
  {
   "cell_type": "code",
   "execution_count": 249,
   "id": "368a81cb-7928-47a2-b44f-b1a3ecaf26a3",
   "metadata": {},
   "outputs": [
    {
     "name": "stdout",
     "output_type": "stream",
     "text": [
      "[1, 2, 3, 4, 5, 6, 7, 8, 9, 10, 6, 7, 8, 9, 10, 6, 7, 8, 9, 10, 6, 7, 8, 9, 10, 6, 7, 8, 9, 10, 6, 7, 8, 9, 10]\n",
      "123456,7,8,9,10\n"
     ]
    }
   ],
   "source": [
    "# concatenation\n",
    "print(my_list + [6, 7, 8, 9, 10])\n",
    "print(my_string + '6,7,8,9,10')"
   ]
  },
  {
   "cell_type": "code",
   "execution_count": 244,
   "id": "d6cc6e12-adc6-4957-a25b-3c98b04caef3",
   "metadata": {},
   "outputs": [
    {
     "name": "stdout",
     "output_type": "stream",
     "text": [
      "[1, 2, 3, 4, 5, 6, 7, 8, 9, 10, 6, 7, 8, 9, 10, 6, 7, 8, 9, 10, 6, 7, 8, 9, 10, 6, 7, 8, 9, 10]\n"
     ]
    }
   ],
   "source": [
    "my_list += [6, 7, 8, 9, 10]\n",
    "print(my_list)"
   ]
  },
  {
   "cell_type": "code",
   "execution_count": 251,
   "id": "ce74ce6b-191d-4f27-8702-aec8159e99f6",
   "metadata": {},
   "outputs": [
    {
     "name": "stdout",
     "output_type": "stream",
     "text": [
      "##########\n",
      "[0, 1, 0, 1, 0, 1, 0, 1, 0, 1, 0, 1, 0, 1, 0, 1, 0, 1, 0, 1]\n"
     ]
    }
   ],
   "source": [
    "# *\n",
    "print('#' * 10)\n",
    "print([0, 1] * 10)"
   ]
  },
  {
   "cell_type": "code",
   "execution_count": 252,
   "id": "1deab2ce-8654-4c35-b460-f93901c925a3",
   "metadata": {},
   "outputs": [
    {
     "name": "stdout",
     "output_type": "stream",
     "text": [
      "30\n"
     ]
    }
   ],
   "source": [
    "print(len(my_list))"
   ]
  },
  {
   "cell_type": "code",
   "execution_count": 253,
   "id": "85fe460f-7884-44fe-bd76-2582eb3ef815",
   "metadata": {},
   "outputs": [
    {
     "name": "stdout",
     "output_type": "stream",
     "text": [
      "5\n"
     ]
    }
   ],
   "source": [
    "print(len(my_string))"
   ]
  },
  {
   "cell_type": "code",
   "execution_count": 255,
   "id": "4550eb25-d50f-486b-9701-158809ab2be6",
   "metadata": {},
   "outputs": [
    {
     "name": "stdout",
     "output_type": "stream",
     "text": [
      "5\n"
     ]
    }
   ],
   "source": [
    "print(my_string[4])"
   ]
  },
  {
   "cell_type": "code",
   "execution_count": 256,
   "id": "5df4ae14-45c2-4fa2-94f5-ef087e2a55a5",
   "metadata": {},
   "outputs": [
    {
     "name": "stdout",
     "output_type": "stream",
     "text": [
      "10\n"
     ]
    }
   ],
   "source": [
    "print(max(my_list))"
   ]
  },
  {
   "cell_type": "code",
   "execution_count": 260,
   "id": "70aec671-934a-4406-acf3-142ecefce0c5",
   "metadata": {},
   "outputs": [
    {
     "name": "stdout",
     "output_type": "stream",
     "text": [
      "10\n"
     ]
    }
   ],
   "source": [
    "a = print(max(my_list))"
   ]
  },
  {
   "cell_type": "code",
   "execution_count": 263,
   "id": "eadb86b5-0264-4bfd-b6c5-032f47608af0",
   "metadata": {},
   "outputs": [
    {
     "name": "stdout",
     "output_type": "stream",
     "text": [
      "<class 'NoneType'>\n"
     ]
    }
   ],
   "source": [
    "print(type(a))"
   ]
  },
  {
   "cell_type": "markdown",
   "id": "71df5d22-852e-4756-9670-717ae92c582f",
   "metadata": {},
   "source": [
    "# 시퀀스형이 아닌 자료구조"
   ]
  },
  {
   "cell_type": "markdown",
   "id": "deb7a045-af43-4c77-a237-e24e01d8896c",
   "metadata": {},
   "source": [
    "### 5.1 Set\n",
    "수학에서 사용하는 집합과 동일한 개념 (중복 값이 없음)\n",
    "\n",
    "- 선언 : 변수이름 = {value1, value2, value3}"
   ]
  },
  {
   "cell_type": "code",
   "execution_count": 264,
   "id": "4f2999b8-dd90-472d-b09d-1756a6cfbff8",
   "metadata": {},
   "outputs": [],
   "source": [
    "my_set_a = {1, 3, 5, 7, 9}\n",
    "my_set_b = {1, 2, 3, 4, 5}"
   ]
  },
  {
   "cell_type": "code",
   "execution_count": 267,
   "id": "dd3478ce-732a-4216-9ca5-46f1b1ca0abb",
   "metadata": {},
   "outputs": [
    {
     "name": "stdout",
     "output_type": "stream",
     "text": [
      "{1, 3, 5, 7, 9}\n"
     ]
    }
   ],
   "source": [
    "print(my_set_a)"
   ]
  },
  {
   "cell_type": "code",
   "execution_count": 268,
   "id": "4ae6bf5b-5917-4e67-b905-88ae0ba604e9",
   "metadata": {},
   "outputs": [
    {
     "name": "stdout",
     "output_type": "stream",
     "text": [
      "{9, 7}\n",
      "{1, 2, 3, 4, 5, 7, 9}\n"
     ]
    }
   ],
   "source": [
    "print(my_set_a - my_set_b)\n",
    "print(my_set_a | my_set_b)"
   ]
  },
  {
   "cell_type": "code",
   "execution_count": 270,
   "id": "291eeace-a543-4ff2-aa18-a5908e855c80",
   "metadata": {},
   "outputs": [
    {
     "name": "stdout",
     "output_type": "stream",
     "text": [
      "{1, 3, 5}\n"
     ]
    }
   ],
   "source": [
    "print(my_set_a & my_set_b)"
   ]
  },
  {
   "cell_type": "code",
   "execution_count": 274,
   "id": "61b421b0-6e64-4798-829b-8054ec63a813",
   "metadata": {},
   "outputs": [
    {
     "name": "stdout",
     "output_type": "stream",
     "text": [
      "{1, 2, 3, 4, 5, 'w', 10, 'wn'}\n"
     ]
    }
   ],
   "source": [
    "test_set = {1, 10, 2, 3, 4, 1, 3, 'w', 4, 5, 1, 2, 4, 5, 3, 4, 'wn'}\n",
    "print(test_set)"
   ]
  },
  {
   "cell_type": "markdown",
   "id": "1fc154f8-5d6d-4837-a3d1-ea38345216a0",
   "metadata": {},
   "source": [
    "### 5.2 Dictionary\n",
    "\n",
    "- 선언 : 변수이름 = {key1: value1, key2:value2, ...}\n",
    "- 접근 : 변수이름[key]"
   ]
  },
  {
   "cell_type": "code",
   "execution_count": 275,
   "id": "6ee04359-0760-43f2-ada3-f5d5aad43f5d",
   "metadata": {},
   "outputs": [
    {
     "name": "stdout",
     "output_type": "stream",
     "text": [
      "{'서울': '02', '경기': '031'}\n"
     ]
    }
   ],
   "source": [
    "my_dict = {'서울': '02','경기': '031'}\n",
    "print(my_dict)"
   ]
  },
  {
   "cell_type": "code",
   "execution_count": 278,
   "id": "2a56fc52-e0ef-49b7-8bb7-742b6f288326",
   "metadata": {},
   "outputs": [
    {
     "name": "stdout",
     "output_type": "stream",
     "text": [
      "02\n"
     ]
    }
   ],
   "source": [
    "print(my_dict['서울'])"
   ]
  },
  {
   "cell_type": "code",
   "execution_count": 285,
   "id": "b35389c9-be27-4ee0-a482-a81156d5826e",
   "metadata": {},
   "outputs": [
    {
     "name": "stdout",
     "output_type": "stream",
     "text": [
      "seoul\n"
     ]
    }
   ],
   "source": [
    "my_info = {\n",
    "    'name': 'taejoo',\n",
    "    'location': 'seoul',\n",
    "    'age': [1, 2, 3, 4, 5],\n",
    "}\n",
    "\n",
    "print(my_info['location'])"
   ]
  },
  {
   "cell_type": "code",
   "execution_count": 286,
   "id": "f5925308-7d24-4702-b10e-cf6082a0f731",
   "metadata": {},
   "outputs": [
    {
     "ename": "NameError",
     "evalue": "name 'keys' is not defined",
     "output_type": "error",
     "traceback": [
      "\u001b[0;31m---------------------------------------------------------------------------\u001b[0m",
      "\u001b[0;31mNameError\u001b[0m                                 Traceback (most recent call last)",
      "Cell \u001b[0;32mIn[286], line 1\u001b[0m\n\u001b[0;32m----> 1\u001b[0m my_info[\u001b[43mkeys\u001b[49m]\n",
      "\u001b[0;31mNameError\u001b[0m: name 'keys' is not defined"
     ]
    }
   ],
   "source": [
    "my_info[keys]"
   ]
  },
  {
   "cell_type": "code",
   "execution_count": 287,
   "id": "0b291ffb-f942-4ace-afa1-5b52dff93089",
   "metadata": {},
   "outputs": [
    {
     "data": {
      "text/plain": [
       "dict_keys(['name', 'location', 'age'])"
      ]
     },
     "execution_count": 287,
     "metadata": {},
     "output_type": "execute_result"
    }
   ],
   "source": [
    "my_info.keys()"
   ]
  },
  {
   "cell_type": "code",
   "execution_count": 288,
   "id": "25733e39-c11c-4213-9f86-bf529a422f1a",
   "metadata": {},
   "outputs": [
    {
     "data": {
      "text/plain": [
       "dict_values(['taejoo', 'seoul', [1, 2, 3, 4, 5]])"
      ]
     },
     "execution_count": 288,
     "metadata": {},
     "output_type": "execute_result"
    }
   ],
   "source": [
    "my_info.values()"
   ]
  },
  {
   "cell_type": "markdown",
   "id": "dbba724f-bab7-4016-9a84-23f28815ac40",
   "metadata": {},
   "source": []
  },
  {
   "cell_type": "markdown",
   "id": "8ac12de7-0020-44ba-baff-ce2fc2240acc",
   "metadata": {},
   "source": [
    "##### 데이터 타입\n",
    "1. Number\n",
    "2. Boolean\n",
    "3. String\n",
    "\n",
    "##### 자료구조\n",
    "- 시퀀스 자료형\n",
    "1. [List] : mutable\n",
    "2. (Tuple) : immutable\n",
    "3. range() : immutable\n",
    "4. 'String' : immutable\n",
    "\n",
    "- 시퀀스가 아닌 자료형\n",
    "1. {Set} : mutable\n",
    "2. {Dict: ionary} : mutable"
   ]
  },
  {
   "cell_type": "code",
   "execution_count": null,
   "id": "515b0dda-79fc-4b2c-ac9d-82a0c37c25eb",
   "metadata": {},
   "outputs": [],
   "source": []
  }
 ],
 "metadata": {
  "kernelspec": {
   "display_name": "Python 3 (ipykernel)",
   "language": "python",
   "name": "python3"
  },
  "language_info": {
   "codemirror_mode": {
    "name": "ipython",
    "version": 3
   },
   "file_extension": ".py",
   "mimetype": "text/x-python",
   "name": "python",
   "nbconvert_exporter": "python",
   "pygments_lexer": "ipython3",
   "version": "3.12.4"
  }
 },
 "nbformat": 4,
 "nbformat_minor": 5
}
