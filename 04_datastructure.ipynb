{
 "cells": [
  {
   "cell_type": "code",
   "execution_count": null,
   "id": "5686cb7f-aa69-465e-80bf-6803038c5a66",
   "metadata": {},
   "outputs": [],
   "source": []
  },
  {
   "cell_type": "code",
   "execution_count": null,
   "id": "0c85d169-4239-45d9-8eae-b5603118a0aa",
   "metadata": {},
   "outputs": [],
   "source": []
  },
  {
   "cell_type": "code",
   "execution_count": null,
   "id": "b8fe1d6b-102f-4c19-9fdb-cb8362e7b7a9",
   "metadata": {},
   "outputs": [],
   "source": []
  },
  {
   "cell_type": "code",
   "execution_count": null,
   "id": "26f3dc50-1f3c-4a81-9082-c27787892a59",
   "metadata": {},
   "outputs": [],
   "source": []
  },
  {
   "cell_type": "code",
   "execution_count": null,
   "id": "33e0c5cc-6acc-40ac-8d01-9fd481ccb4b0",
   "metadata": {},
   "outputs": [],
   "source": [
    "my_list = ['my', 'name', 'is']\n",
    "print('\\n'.join(my_list))"
   ]
  },
  {
   "cell_type": "code",
   "execution_count": null,
   "id": "fb1c1fbb-d2cb-45df-bc93-975728302a11",
   "metadata": {},
   "outputs": [],
   "source": [
    "my_string = '      hello  \\n    '\n",
    "print(my_string)\n",
    "print(my_string.strip())\n",
    "\n",
    "my_string2 = '---------hello-----'\n",
    "print(my_string2.strip('-'))\n",
    "print(my_string2.lstrip('-'))\n",
    "print(my_string2.rstrip('-'))\n",
    "#판다스에서 상위호환되는 기능이 있음."
   ]
  },
  {
   "cell_type": "code",
   "execution_count": null,
   "id": "db371bd7-961b-4e34-b934-d71e1aa4936c",
   "metadata": {},
   "outputs": [],
   "source": [
    "a = 'woooooow'\n",
    "a.replace('o', '', 3)"
   ]
  },
  {
   "cell_type": "code",
   "execution_count": null,
   "id": "c1902996-201a-4c02-9eaa-792695728aa5",
   "metadata": {},
   "outputs": [],
   "source": [
    "a = 'apple'\n",
    "print((a.find('a')))\n",
    "print((a.find('l')))\n",
    "print((a.find('z')))"
   ]
  },
  {
   "cell_type": "code",
   "execution_count": null,
   "id": "f8b5d286-08fb-486f-bf49-f998a401805f",
   "metadata": {},
   "outputs": [],
   "source": [
    "a = 'apple'\n",
    "print(a.index('a'))\n",
    "print(a.index('p'))\n",
    "print(a.index('z'))"
   ]
  },
  {
   "cell_type": "code",
   "execution_count": null,
   "id": "f3d25d81-fbc6-49e2-9d40-7e4923ae97a2",
   "metadata": {},
   "outputs": [],
   "source": [
    "a = 'my name is hong'\n",
    "print(a.split())"
   ]
  },
  {
   "cell_type": "code",
   "execution_count": null,
   "id": "7ab420f5-1ee3-4f7b-8556-c96c4aee62e4",
   "metadata": {},
   "outputs": [],
   "source": [
    "a = 'woooooo'\n",
    "a.count('o')"
   ]
  },
  {
   "cell_type": "markdown",
   "id": "c0089195-31df-4d9f-9629-0af3475d825b",
   "metadata": {},
   "source": [
    "## 리스트 메소드\n",
    "실제로 정말 많이 쓰인다"
   ]
  },
  {
   "cell_type": "code",
   "execution_count": null,
   "id": "9f4bb320-5763-4177-b757-1d3f61d5e45b",
   "metadata": {},
   "outputs": [],
   "source": [
    "numbers = [1, 4, 3, 6, 8, 9, 3]"
   ]
  },
  {
   "cell_type": "code",
   "execution_count": null,
   "id": "e2f3f286-5b60-41a6-9075-14f9e6637d7b",
   "metadata": {},
   "outputs": [],
   "source": [
    "numbers.append(10)\n",
    "print(numbers)"
   ]
  },
  {
   "cell_type": "code",
   "execution_count": null,
   "id": "93125f64-c226-4129-8065-87e520459215",
   "metadata": {},
   "outputs": [],
   "source": [
    "a = [99, 100]\n",
    "\n",
    "numbers.extend(a)\n",
    "print(numbers)\n",
    "numbers = numbers + a\n",
    "print(numbers)"
   ]
  },
  {
   "cell_type": "code",
   "execution_count": null,
   "id": "ab323d13-e865-4068-a517-3612ec652b46",
   "metadata": {},
   "outputs": [],
   "source": [
    "numbers.insert(5, -10)\n",
    "print(numbers)"
   ]
  },
  {
   "cell_type": "code",
   "execution_count": null,
   "id": "07820136-5a70-48a7-919c-756065be936e",
   "metadata": {},
   "outputs": [],
   "source": [
    "# x를 찾아서 제거, 단 없으면 오류발생\n",
    "numbers.remove(-10)"
   ]
  },
  {
   "cell_type": "code",
   "execution_count": null,
   "id": "795837bd-0c54-45a5-b379-5adcda61b9b1",
   "metadata": {},
   "outputs": [],
   "source": [
    "result = numbers.pop()\n",
    "print(numbers, result)\n",
    "\n",
    "result = numbers.pop(0)\n",
    "print(numbers, result)"
   ]
  },
  {
   "cell_type": "code",
   "execution_count": null,
   "id": "e12358bc-281e-440a-9d1a-d19c0657189e",
   "metadata": {},
   "outputs": [],
   "source": [
    "numbers.sort()\n",
    "print(numbers)\n",
    "\n",
    "numbers.sort(reverse=True)\n",
    "print(numbers)\n",
    "# 원본데이터가바뀜"
   ]
  },
  {
   "cell_type": "code",
   "execution_count": null,
   "id": "4cc781ff-8aa2-423c-9fac-4a496d485686",
   "metadata": {},
   "outputs": [],
   "source": [
    "numbers = [5, 3, 7, 1, 8, 2, 3]\n",
    "\n",
    "print(sorted(numbers))\n",
    "print(numbers)\n",
    "# 원본데이터는안바뀜"
   ]
  },
  {
   "cell_type": "code",
   "execution_count": null,
   "id": "749317a3-b079-47a6-a7e2-395df5f0eb03",
   "metadata": {},
   "outputs": [],
   "source": [
    "my_list = ['b', 'c', 'a', 'e', 'f', 'a']\n",
    "my_list.sort()\n",
    "print(my_list)\n",
    "\n",
    "my_kor = ['가', '나', '다', '가', '캬', '고']\n",
    "my_kor.sort(reverse=True)\n",
    "print(my_kor)"
   ]
  },
  {
   "cell_type": "code",
   "execution_count": null,
   "id": "57cdeea0-e028-4230-a80b-0d33d4396421",
   "metadata": {},
   "outputs": [],
   "source": [
    "print(numbers)\n",
    "numbers.reverse()\n",
    "print(numbers)"
   ]
  },
  {
   "cell_type": "code",
   "execution_count": null,
   "id": "d2da08cf-c141-4d51-8ad1-f94fb15e483a",
   "metadata": {},
   "outputs": [],
   "source": [
    "print(numbers)\n",
    "print(numbers[-2])\n",
    "print(numbers[::-1]) # reverse와 동일한 메소드."
   ]
  },
  {
   "cell_type": "markdown",
   "id": "e91adfe1-8d85-4c38-95dc-5d7745a7db2a",
   "metadata": {},
   "source": [
    "## list copy"
   ]
  },
  {
   "cell_type": "code",
   "execution_count": null,
   "id": "477c00b0-2ef0-456b-b24e-d41ea7a62a30",
   "metadata": {},
   "outputs": [],
   "source": [
    "origin_list = [1, 2, 3]\n",
    "copy_list = origin_list"
   ]
  },
  {
   "cell_type": "code",
   "execution_count": null,
   "id": "82071965-90e3-4bfa-8bff-70798d18aa32",
   "metadata": {},
   "outputs": [],
   "source": [
    "print(origin_list)\n",
    "print(copy_list)"
   ]
  },
  {
   "cell_type": "code",
   "execution_count": null,
   "id": "4c11d4e6-45c7-4985-9adc-7af3da025bef",
   "metadata": {},
   "outputs": [],
   "source": [
    "origin_list[0] = 100"
   ]
  },
  {
   "cell_type": "code",
   "execution_count": null,
   "id": "7eed5f03-295f-485e-a822-70e2f599edc8",
   "metadata": {},
   "outputs": [],
   "source": [
    "print(origin_list)\n",
    "print(copy_list)"
   ]
  },
  {
   "cell_type": "code",
   "execution_count": null,
   "id": "3ef59acc-0d50-4120-87fc-b1950d0dae39",
   "metadata": {},
   "outputs": [],
   "source": [
    "copy_list[1] = 200"
   ]
  },
  {
   "cell_type": "code",
   "execution_count": null,
   "id": "5becd986-ea8c-4508-bdb1-dd589841ba0b",
   "metadata": {},
   "outputs": [],
   "source": [
    "print(origin_list)\n",
    "print(copy_list)"
   ]
  },
  {
   "cell_type": "code",
   "execution_count": null,
   "id": "070d23bf-5d52-4c63-96ba-4ba72410d6e1",
   "metadata": {},
   "outputs": [],
   "source": [
    "origin_list = [1, 2, 3]\n",
    "copy_list = origin_list[:]\n",
    "\n",
    "origin_list[0] = 100\n",
    "\n",
    "print(origin_list)\n",
    "print(copy_list)"
   ]
  },
  {
   "cell_type": "code",
   "execution_count": null,
   "id": "89b6387f-a4b8-4487-b747-1cb5accb44c3",
   "metadata": {},
   "outputs": [],
   "source": [
    "origin_list = [1, 2, [3, 4]]\n",
    "copy_list = origin_list[:]\n",
    "               \n",
    "origin_list[0] = 100\n",
    "origin_list[2][0] = 300\n",
    "\n",
    "print(origin_list)\n",
    "print(copy_list)"
   ]
  },
  {
   "cell_type": "code",
   "execution_count": null,
   "id": "99a4683f-c0ca-4132-85c6-4c3320ad849e",
   "metadata": {},
   "outputs": [],
   "source": [
    "import copy\n",
    "origin_list = [1, 2, [3, 4]]\n",
    "copy_list = copy.deepcopy(origin_list)\n",
    "\n",
    "origin_list[0] = 100\n",
    "origin_list[2][0] = 300\n",
    "\n",
    "print(origin_list)\n",
    "print(copy_list)"
   ]
  },
  {
   "cell_type": "markdown",
   "id": "6851ac11-8632-446a-8839-9a458b74f0ae",
   "metadata": {},
   "source": [
    "## list comprehension"
   ]
  },
  {
   "cell_type": "code",
   "execution_count": null,
   "id": "6009f7a8-3dee-42eb-bf39-1c0d36118fd5",
   "metadata": {},
   "outputs": [],
   "source": [
    "numbers = list(range(1, 11))\n",
    "print(numbers)"
   ]
  },
  {
   "cell_type": "code",
   "execution_count": null,
   "id": "527caf20-d781-46d9-b041-e47900cc5597",
   "metadata": {},
   "outputs": [],
   "source": [
    "n = 0\n",
    "for i in numbers:\n",
    "    numbers[n] = i**3\n",
    "    n += 1\n",
    "print(numbers)"
   ]
  },
  {
   "cell_type": "code",
   "execution_count": null,
   "id": "fb45bf83-3eda-42b5-8203-c64932b012f3",
   "metadata": {},
   "outputs": [],
   "source": [
    "result = [number ** 3 for number in numbers]\n",
    "print(result)\n",
    "# 위 코드를 읽을 수 있어야 한다. 실제로 코딩할 때에는 가독성이 떨어져 권장하지 않는다."
   ]
  },
  {
   "cell_type": "code",
   "execution_count": null,
   "id": "b403ae87-917d-434d-9d34-a20e5f88157e",
   "metadata": {},
   "outputs": [],
   "source": [
    "# 짝수만 고르기\n",
    "result = []\n",
    "\n",
    "for number in numbers:\n",
    "    if number % 2 == 0:\n",
    "        result = result + [number]\n",
    "print(result)"
   ]
  },
  {
   "cell_type": "code",
   "execution_count": null,
   "id": "a9a9fc09-663b-49f4-8e0d-a8d0b40d938b",
   "metadata": {},
   "outputs": [],
   "source": [
    "result = [number for number in numbers if number % 2 == 0]\n",
    "print(result)"
   ]
  },
  {
   "cell_type": "code",
   "execution_count": null,
   "id": "c14f5810-fe2e-44e6-a97b-54580d98f11e",
   "metadata": {},
   "outputs": [],
   "source": [
    "# 연습!\n",
    "words = 'my name is hong'\n",
    "\n",
    "# => 'my nm s hng'\n",
    "me = ['a', 'e', 'i', 'o', 'u']\n",
    "for i in words:\n",
    "    if i in me:\n",
    "        words=words.replace(i, '')\n",
    "print(words)"
   ]
  },
  {
   "cell_type": "code",
   "execution_count": null,
   "id": "7a37c915-2663-4e55-8625-0f43441d316d",
   "metadata": {},
   "outputs": [],
   "source": [
    "words = 'my name is hong'\n",
    "\n",
    "# => 'my nm s hng'\n",
    "me = ['a', 'e', 'i', 'o', 'u']\n",
    "result = [i for i in words if i not in me]\n",
    "\n",
    "print(''.join(result))\n",
    "\n",
    "print(result)\n",
    "text_result = ''\n",
    "for i in result:\n",
    "    text_result = text_result + i\n",
    "\n",
    "print(text_result)"
   ]
  },
  {
   "cell_type": "code",
   "execution_count": null,
   "id": "780a584c-1bc4-40da-b06e-bb84c2e10801",
   "metadata": {},
   "outputs": [],
   "source": [
    "words = 'my name is hong'\n",
    "\n",
    "# => 'my nm s hng'\n",
    "me = ['a', 'e', 'i', 'o', 'u']\n",
    "for char in me:\n",
    "    words = words.replace(char, \"\")\n",
    "\n",
    "print(words)"
   ]
  },
  {
   "cell_type": "code",
   "execution_count": null,
   "id": "ba9d1825-3dc4-4f2f-9e51-7541f474c35a",
   "metadata": {},
   "outputs": [],
   "source": [
    "words = 'my name is hong'\n",
    "\n",
    "# => 'my nm s hng'\n",
    "\n",
    "''.join([i for i in words if i not in 'aeiou'])"
   ]
  },
  {
   "cell_type": "markdown",
   "id": "09de5d80-3a98-475c-b7f8-d4c3ab3ea4df",
   "metadata": {},
   "source": [
    "# dictionary 메소드"
   ]
  },
  {
   "cell_type": "markdown",
   "id": "de8945f2-4cd1-416f-af2a-12be397e1eea",
   "metadata": {},
   "source": [
    "# dictionary 메소드"
   ]
  },
  {
   "cell_type": "code",
   "execution_count": null,
   "id": "f31093a4-c34b-4047-871b-bc411dc678c7",
   "metadata": {},
   "outputs": [],
   "source": [
    "info = {\n",
    "    'name': 'hong',\n",
    "    'location': 'seoul',\n",
    "    'age': 20,\n",
    "    'models': ['iphone', 'mac', 'watch'],\n",
    "    'phonebook':{\n",
    "        'kim': '010-1234-1234',\n",
    "        'lee': '010-4567-4567',\n",
    "    }\n",
    "}"
   ]
  },
  {
   "cell_type": "code",
   "execution_count": null,
   "id": "ee2fd72a-e11a-4252-860c-cd8d298e2750",
   "metadata": {},
   "outputs": [],
   "source": [
    "print(info['name'])\n",
    "print(info['age'])\n",
    "print(info['models'][0])\n",
    "print(info['phonebook']['kim'])\n",
    "# 딕셔너리 안의 리스트 또는 딕셔너리 안의 딕셔너리에 접근할 때에는 먼저 출력해서 확인해보는 작업 추천"
   ]
  },
  {
   "cell_type": "code",
   "execution_count": null,
   "id": "c5b5b399-0689-46a6-a5be-74b92d1c0049",
   "metadata": {},
   "outputs": [],
   "source": [
    "info['name'] = 'park'\n",
    "print(info)\n",
    "\n",
    "info.update(name = 'oh')\n",
    "print(info)"
   ]
  },
  {
   "cell_type": "code",
   "execution_count": null,
   "id": "b06ad045-4d71-4489-80e0-94010f68e189",
   "metadata": {},
   "outputs": [],
   "source": [
    "age = info.pop('age')\n",
    "print(info, age)"
   ]
  },
  {
   "cell_type": "code",
   "execution_count": null,
   "id": "4765524b-093e-4e24-b01b-caadf51b964f",
   "metadata": {},
   "outputs": [],
   "source": [
    "print(info.get('name'))\n",
    "print(info['name'])"
   ]
  },
  {
   "cell_type": "code",
   "execution_count": null,
   "id": "54fd7374-cd57-41eb-811f-935344a45f08",
   "metadata": {},
   "outputs": [],
   "source": [
    "print(info['birth'])"
   ]
  },
  {
   "cell_type": "code",
   "execution_count": null,
   "id": "fdb93f11-0ed1-4ad8-bc38-1195f1bbe073",
   "metadata": {},
   "outputs": [],
   "source": [
    "print(info.get('birth'))"
   ]
  },
  {
   "cell_type": "code",
   "execution_count": null,
   "id": "4ed881e3-157e-4880-957a-e299bb586358",
   "metadata": {},
   "outputs": [],
   "source": [
    "#연습문제\n",
    "blood_type = ['A', 'B', 'B', 'O', 'AB', 'A']"
   ]
  },
  {
   "cell_type": "code",
   "execution_count": null,
   "id": "87166be3-c490-4b7a-8b57-a12a3d1f837e",
   "metadata": {},
   "outputs": [],
   "source": [
    "blood_dict = { }\n",
    "for blood in blood_type:\n",
    "    blood_dict[blood] = blood_type.count(blood)\n",
    "\n",
    "print(blood_dict)"
   ]
  },
  {
   "cell_type": "code",
   "execution_count": null,
   "id": "5eef4879-ddde-43c4-84d9-e0d4243f1966",
   "metadata": {},
   "outputs": [],
   "source": [
    "blood_dict = {\n",
    "    'A': 0,\n",
    "    'B': 0,\n",
    "    'AB': 0,\n",
    "    'O': 0,\n",
    "}\n",
    "\n",
    "for blood in blood_type:\n",
    "    blood_dict[blood] += 1\n",
    "\n",
    "\n",
    "print(blood_dict)"
   ]
  },
  {
   "cell_type": "code",
   "execution_count": null,
   "id": "8c7fffcf-e7de-447c-ae53-d33cd0df5f8f",
   "metadata": {},
   "outputs": [],
   "source": [
    "location = ['서울', '대전', '부산', '강릉', '서울', 'LA', '도쿄']\n",
    "\n",
    "dict_loca = {}\n",
    "for place in location:\n",
    "    dict_loca[place] = location.count(place)\n",
    "print(dict_loca)"
   ]
  },
  {
   "cell_type": "code",
   "execution_count": null,
   "id": "46db14b2-8437-471c-8210-08a9343d5943",
   "metadata": {},
   "outputs": [],
   "source": [
    "location = ['서울', '대전', '부산', '강릉', '서울', 'LA', '도쿄']\n",
    "\n",
    "dict_loca = {}\n",
    "for place in location:\n",
    "    dict_loca[place] = 0\n",
    "for place in location:\n",
    "    dict_loca[place] += 1\n",
    "print(dict_loca)"
   ]
  },
  {
   "cell_type": "code",
   "execution_count": null,
   "id": "4bea5984-18a3-4848-8399-17e675bebfda",
   "metadata": {},
   "outputs": [],
   "source": [
    "location = ['서울', '대전', '부산', '강릉', '서울', 'LA', '도쿄']\n",
    "\n",
    "loca_dict = { }\n",
    "\n",
    "for loca in location:\n",
    "    if loca in loca_dict.keys():\n",
    "        loca_dict[loca] += 1\n",
    "    else:\n",
    "        loca_dict[loca] = 0\n",
    "print(loca_dict)"
   ]
  },
  {
   "cell_type": "code",
   "execution_count": null,
   "id": "ad050379-a997-4291-b619-11289f762293",
   "metadata": {},
   "outputs": [],
   "source": [
    "location = ['서울', '대전', '부산', '강릉', '서울', 'LA', '도쿄']\n",
    "location.sort()\n",
    "print(location)\n",
    "print(set(location))"
   ]
  },
  {
   "cell_type": "code",
   "execution_count": null,
   "id": "7be5f2f3-6aa7-455e-9098-3a7f7135c515",
   "metadata": {},
   "outputs": [],
   "source": [
    "location.pop(0)\n",
    "print(location)\n",
    "print(location.pop(0))"
   ]
  },
  {
   "cell_type": "markdown",
   "id": "8e50e97b-f709-429d-a452-c7119d4c43e6",
   "metadata": {},
   "source": [
    "## dict comprehension"
   ]
  },
  {
   "cell_type": "code",
   "execution_count": null,
   "id": "2080b1da-a84e-4295-8076-4072ac67664d",
   "metadata": {},
   "outputs": [],
   "source": [
    "# {1: 1, 2: 8, 3: 27, ... 10: 1000}\n",
    "\n",
    "result = {}\n",
    "numbers = list(range(1, 11))\n",
    "for number in numbers:\n",
    "    result[number] = number ** 3\n",
    "\n",
    "print(result)"
   ]
  },
  {
   "cell_type": "code",
   "execution_count": null,
   "id": "757680fc-a7ea-4a70-88ad-41368f33c3fa",
   "metadata": {},
   "outputs": [],
   "source": [
    "# {1: 1, 2: 8, 3: 27, ... 10: 1000}\n",
    "\n",
    "result = {number: number ** 3 for number in numbers}\n",
    "print(result)"
   ]
  },
  {
   "cell_type": "code",
   "execution_count": null,
   "id": "996e126c-5ec2-46c8-b8c1-8f15ecd216be",
   "metadata": {},
   "outputs": [],
   "source": [
    "dust = {\n",
    "    '서울': 50,\n",
    "    '대전': 100,\n",
    "    '부산': 70,\n",
    "    '광주': 90,\n",
    "}\n",
    "result = {}\n",
    "result = {city: dust[city] for city in dust if dust[city] > 70}\n",
    "print(result)"
   ]
  },
  {
   "cell_type": "code",
   "execution_count": null,
   "id": "e4129392-5ba9-43de-bf9a-e26a073132b6",
   "metadata": {},
   "outputs": [],
   "source": [
    "dust = {\n",
    "    '서울': 50,\n",
    "    '대전': 100,\n",
    "    '부산': 70,\n",
    "    '광주': 90,\n",
    "}\n",
    "result = {}\n",
    "for i in dust:\n",
    "    if dust[i] > 70:\n",
    "        result[i] = dust[i]\n",
    "\n",
    "print(result)"
   ]
  },
  {
   "cell_type": "code",
   "execution_count": null,
   "id": "79fdd813-f97b-47a5-851a-ac2f934b2080",
   "metadata": {},
   "outputs": [],
   "source": [
    "dust = {\n",
    "    '서울': 50,\n",
    "    '대전': 100,\n",
    "    '부산': 70,\n",
    "    '광주': 90,\n",
    "}\n",
    "result = {}\n",
    "result = {k: v for k, v in dust.items() if v > 70}\n",
    "print(result)"
   ]
  },
  {
   "cell_type": "markdown",
   "id": "9cc13f86-017c-4d89-b177-5f50d53a9594",
   "metadata": {},
   "source": [
    "## 세트 메소드"
   ]
  },
  {
   "cell_type": "code",
   "execution_count": null,
   "id": "b329df29-784e-4fc7-a731-d6fc1615271f",
   "metadata": {},
   "outputs": [],
   "source": [
    "fruits = {'apple', 'banana', 'melon', 'apple'}\n",
    "print(fruits)"
   ]
  },
  {
   "cell_type": "code",
   "execution_count": null,
   "id": "3d6f2773-480d-44ab-bc4f-c9559f689d8c",
   "metadata": {},
   "outputs": [],
   "source": [
    "fruits.add('watermelon')\n",
    "print(fruits)"
   ]
  },
  {
   "cell_type": "code",
   "execution_count": null,
   "id": "c98156a6-b253-4f06-bc56-b031ae988449",
   "metadata": {},
   "outputs": [],
   "source": [
    "fruits.update({'kiwi', 'mango'})\n",
    "print(fruits)"
   ]
  },
  {
   "cell_type": "code",
   "execution_count": null,
   "id": "c0695038-1472-4e83-aab8-d85ced818e50",
   "metadata": {},
   "outputs": [],
   "source": [
    "fruits.remove('apple')\n",
    "print(fruits)"
   ]
  },
  {
   "cell_type": "code",
   "execution_count": null,
   "id": "10fecb5c-7f2a-464d-8665-40ac5bfb29e7",
   "metadata": {},
   "outputs": [],
   "source": [
    "print(fruits)"
   ]
  },
  {
   "cell_type": "code",
   "execution_count": null,
   "id": "1aa08bab-3dbf-40be-95fd-bc60e7d27f74",
   "metadata": {},
   "outputs": [],
   "source": [
    "fruits.pop()\n",
    "print(fruits)"
   ]
  },
  {
   "cell_type": "markdown",
   "id": "079311d4-4831-4966-b36f-6ec2bd550986",
   "metadata": {},
   "source": [
    "## map, filter, zip\n",
    "### map\n",
    "- map(function, iterable)"
   ]
  },
  {
   "cell_type": "code",
   "execution_count": 3,
   "id": "a5f0bc66-b07d-46a1-a3d9-b362c5c326aa",
   "metadata": {},
   "outputs": [
    {
     "name": "stdout",
     "output_type": "stream",
     "text": [
      "['1', '2', '3', '4', '5']\n"
     ]
    }
   ],
   "source": [
    "numbers = [1, 2, 3, 4, 5]\n",
    "# => ['1', '2', '3', '4', '5']\n",
    "\n",
    "result = []\n",
    "for number in numbers:\n",
    "    result.append(str(number))\n",
    "\n",
    "print(result)"
   ]
  },
  {
   "cell_type": "code",
   "execution_count": null,
   "id": "f4e8eaab-ea41-4ba3-90f5-31a48fa6751c",
   "metadata": {},
   "outputs": [],
   "source": [
    "result = map(str, numbers)\n",
    "print(result)\n",
    "print(list(result))"
   ]
  },
  {
   "cell_type": "code",
   "execution_count": 7,
   "id": "ac1df999-e8f6-4c77-939b-bd4f32ac8ff8",
   "metadata": {},
   "outputs": [],
   "source": [
    "list1 = [1, 2, 3, 4, 5]"
   ]
  },
  {
   "cell_type": "code",
   "execution_count": 8,
   "id": "49501923-309b-46ae-bf93-633d6de22bf2",
   "metadata": {},
   "outputs": [
    {
     "name": "stdout",
     "output_type": "stream",
     "text": [
      "[1, 8, 27, 64, 125]\n"
     ]
    }
   ],
   "source": [
    "def triple(num):\n",
    "    num = num ** 3\n",
    "    return num\n",
    "\n",
    "result = map(triple, list1)\n",
    "print(list(result))"
   ]
  },
  {
   "cell_type": "code",
   "execution_count": 9,
   "id": "8fe88586-2222-4333-b2b5-c3ab27227e0b",
   "metadata": {},
   "outputs": [
    {
     "name": "stdout",
     "output_type": "stream",
     "text": [
      "[1, 3, 5, 7, 9]\n"
     ]
    }
   ],
   "source": [
    "test_input = '1 3 5 7 9'\n",
    "print(list(map(int, test_input.split())))"
   ]
  },
  {
   "cell_type": "markdown",
   "id": "b6c85b5e-dff9-4ddc-b1b2-33bb750d02a4",
   "metadata": {},
   "source": [
    "### filter\n",
    "- filter(function, iterable)"
   ]
  },
  {
   "cell_type": "code",
   "execution_count": 18,
   "id": "730e3f5a-1f9f-4957-8e03-ac899a833705",
   "metadata": {},
   "outputs": [],
   "source": [
    "def is_odd(x):\n",
    "    return x % 3"
   ]
  },
  {
   "cell_type": "code",
   "execution_count": 19,
   "id": "9e8be33d-7e26-44d1-9f06-5d9b57fd400f",
   "metadata": {},
   "outputs": [
    {
     "name": "stdout",
     "output_type": "stream",
     "text": [
      "[1, 3, 5]\n"
     ]
    }
   ],
   "source": [
    "numbers = [1, 2, 3, 4, 5]\n",
    "result = []\n",
    "\n",
    "for number in numbers:\n",
    "    if number % 2:\n",
    "        result.append(number)\n",
    "print(result)"
   ]
  },
  {
   "cell_type": "code",
   "execution_count": 22,
   "id": "6abc6f1b-b2ae-4cc9-a457-1698766f29f0",
   "metadata": {},
   "outputs": [
    {
     "name": "stdout",
     "output_type": "stream",
     "text": [
      "[1, 2, 4, 5]\n"
     ]
    }
   ],
   "source": [
    "result = filter(is_odd, numbers)\n",
    "print(list(result))"
   ]
  },
  {
   "cell_type": "markdown",
   "id": "e8fc6b09-2c21-4943-a286-46d79ba13cac",
   "metadata": {},
   "source": [
    "###zip"
   ]
  },
  {
   "cell_type": "code",
   "execution_count": 26,
   "id": "f1daefdd-db58-4d74-af3e-ccdf6ad1b1c6",
   "metadata": {},
   "outputs": [
    {
     "name": "stdout",
     "output_type": "stream",
     "text": [
      "<zip object at 0x103a5c780>\n",
      "[(1, 1000), (2, 2000), (3, 3000)]\n"
     ]
    }
   ],
   "source": [
    "a = [1, 2, 3]\n",
    "b = [1000, 2000, 3000, 4000, 5000]\n",
    "\n",
    "result = zip(a,b)\n",
    "print(result)\n",
    "print(list(result))"
   ]
  },
  {
   "cell_type": "code",
   "execution_count": null,
   "id": "32efbc2d-9fa8-42a6-b57b-d4f7048e121a",
   "metadata": {},
   "outputs": [],
   "source": []
  }
 ],
 "metadata": {
  "kernelspec": {
   "display_name": "Python 3 (ipykernel)",
   "language": "python",
   "name": "python3"
  },
  "language_info": {
   "codemirror_mode": {
    "name": "ipython",
    "version": 3
   },
   "file_extension": ".py",
   "mimetype": "text/x-python",
   "name": "python",
   "nbconvert_exporter": "python",
   "pygments_lexer": "ipython3",
   "version": "3.12.4"
  }
 },
 "nbformat": 4,
 "nbformat_minor": 5
}
