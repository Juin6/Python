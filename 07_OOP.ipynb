{
 "cells": [
  {
   "cell_type": "markdown",
   "id": "cd2f5704-49bd-493e-8dfa-1996fd7888b2",
   "metadata": {},
   "source": [
    "# 객체지향 프로그래밍(OOP)"
   ]
  },
  {
   "cell_type": "markdown",
   "id": "f70a14c2-e1d5-4afc-9ddd-51123980aab4",
   "metadata": {},
   "source": [
    "- 클래스(class) : 같은 종류의 집단에 속하는 속성(attribute)과 행위(method)를 정의한 것\n",
    "- 인스턴스(instance) : 클래스를 실제로 메모리상에 할당한 것\n",
    "- 속성(attribute) : 클래스 / 인스턴스가 가지고 있는 데이터 / 값\n",
    "- 행위(method) : 클래스 / 인스턴스가 가지고 있는 함수 / 기능"
   ]
  },
  {
   "cell_type": "code",
   "execution_count": 1,
   "id": "41e19ca4-51a1-4a0b-981e-6ac4e7708c98",
   "metadata": {},
   "outputs": [],
   "source": [
    "number = 1 + 2j"
   ]
  },
  {
   "cell_type": "code",
   "execution_count": 2,
   "id": "b9f3f90a-7c88-4d14-9a57-24c5ecef13a0",
   "metadata": {},
   "outputs": [
    {
     "data": {
      "text/plain": [
       "complex"
      ]
     },
     "execution_count": 2,
     "metadata": {},
     "output_type": "execute_result"
    }
   ],
   "source": [
    "type(number)"
   ]
  },
  {
   "cell_type": "code",
   "execution_count": 5,
   "id": "8e8e6c14-a9d8-4734-aa90-3e0452440e8d",
   "metadata": {},
   "outputs": [
    {
     "name": "stdout",
     "output_type": "stream",
     "text": [
      "1.0\n",
      "2.0\n"
     ]
    }
   ],
   "source": [
    "print(number.real)\n",
    "print(number.imag)"
   ]
  },
  {
   "cell_type": "code",
   "execution_count": 4,
   "id": "7c65aac4-8add-4c6b-96e7-eca01fb50370",
   "metadata": {},
   "outputs": [
    {
     "name": "stdout",
     "output_type": "stream",
     "text": [
      "(1+2j)\n"
     ]
    }
   ],
   "source": [
    "print(number)"
   ]
  },
  {
   "cell_type": "code",
   "execution_count": 6,
   "id": "6e239db7-cfe1-44da-805c-f1c107e635f8",
   "metadata": {},
   "outputs": [],
   "source": [
    "numbers = [1, 2, 3]"
   ]
  },
  {
   "cell_type": "code",
   "execution_count": 7,
   "id": "1b124c8d-a14e-410d-92ff-14abe4b1eec8",
   "metadata": {},
   "outputs": [
    {
     "data": {
      "text/plain": [
       "list"
      ]
     },
     "execution_count": 7,
     "metadata": {},
     "output_type": "execute_result"
    }
   ],
   "source": [
    "type(numbers)"
   ]
  },
  {
   "cell_type": "code",
   "execution_count": 8,
   "id": "2cb89b23-e2c8-4f00-a32e-d800ad1a5151",
   "metadata": {},
   "outputs": [
    {
     "name": "stdout",
     "output_type": "stream",
     "text": [
      "[3, 2, 1]\n"
     ]
    }
   ],
   "source": [
    "numbers.reverse()\n",
    "print(numbers)"
   ]
  },
  {
   "cell_type": "code",
   "execution_count": 10,
   "id": "d8e75422-509e-480b-9087-caaec6d5b88a",
   "metadata": {},
   "outputs": [],
   "source": [
    "power = False\n",
    "number = '010-1234-1234'\n",
    "book = {\n",
    "    'kim': '010-456-456',\n",
    "    'park': '010-321-321',\n",
    "}\n",
    "\n",
    "def call(from_number, to_number):\n",
    "    print(f'{from_number}에서 {to_number}로 전화거는 중.')"
   ]
  },
  {
   "cell_type": "code",
   "execution_count": null,
   "id": "fbcfa24a-25ef-4d79-97b1-8a55128a3e71",
   "metadata": {},
   "outputs": [],
   "source": []
  },
  {
   "cell_type": "markdown",
   "id": "710254ea-2938-4d06-bb0d-33938f723490",
   "metadata": {},
   "source": [
    "## Class\n",
    "\n",
    "- 클래스 선언\n",
    "```python\n",
    "class ClassName():\n",
    "    attribute1 = value1\n",
    "    attribute2 = value2\n",
    "    ...\n",
    "    \n",
    "    def method_name1(self):\n",
    "        code\n",
    "\n",
    "    def method_name2(self):\n",
    "        code\n",
    "    ...\n",
    "```\n",
    "    클래스 선언 시 ClassName으로 선언하는 방법은 camelCase에 해당된다. 관례 상 클래스 선언 시 이렇게 한다.\n",
    "\n",
    "- 인스턴스화 (클래스 실행)\n",
    "\n",
    "  c = ClassName()"
   ]
  },
  {
   "cell_type": "code",
   "execution_count": 11,
   "id": "f12f28f7-bf26-4461-973a-efbf6970bfe6",
   "metadata": {},
   "outputs": [],
   "source": [
    "#선언\n",
    "class MyClass():\n",
    "    name = 'kim'\n",
    "\n",
    "    def hello(self):\n",
    "        print('hello')"
   ]
  },
  {
   "cell_type": "code",
   "execution_count": 16,
   "id": "d7e6e973-4161-4621-bee5-f2ba4415c5bb",
   "metadata": {},
   "outputs": [
    {
     "name": "stdout",
     "output_type": "stream",
     "text": [
      "<__main__.MyClass object at 0x103922fc0>\n",
      "<class '__main__.MyClass'>\n"
     ]
    }
   ],
   "source": [
    "#인스턴스화\n",
    "m = MyClass()\n",
    "print(m)\n",
    "print(type(m))"
   ]
  },
  {
   "cell_type": "code",
   "execution_count": 24,
   "id": "86153081-893c-4eab-9dbd-c6b1c527445d",
   "metadata": {},
   "outputs": [
    {
     "name": "stdout",
     "output_type": "stream",
     "text": [
      "kim\n",
      "hello\n",
      "None\n"
     ]
    }
   ],
   "source": [
    "print(m.name)\n",
    "print(m.hello())"
   ]
  },
  {
   "cell_type": "code",
   "execution_count": 22,
   "id": "772a0ca6-6731-4cb6-97e0-cfb3a1378830",
   "metadata": {},
   "outputs": [
    {
     "name": "stdout",
     "output_type": "stream",
     "text": [
      "<__main__.MyClass object at 0x103923530>\n"
     ]
    }
   ],
   "source": [
    "m2 = MyClass()\n",
    "print(m2)"
   ]
  },
  {
   "cell_type": "code",
   "execution_count": 23,
   "id": "a1b57876-c6ad-45cb-bf29-2038b74a7d6a",
   "metadata": {},
   "outputs": [
    {
     "name": "stdout",
     "output_type": "stream",
     "text": [
      "park\n",
      "hello\n",
      "None\n"
     ]
    }
   ],
   "source": [
    "m2.name = 'park'\n",
    "print(m2.name)\n",
    "print(m2.hello())"
   ]
  },
  {
   "cell_type": "code",
   "execution_count": 55,
   "id": "1ba84f4f-124a-4811-8da6-bfc363cef5ea",
   "metadata": {},
   "outputs": [],
   "source": [
    "class Phone():\n",
    "    power = False\n",
    "    number = '010-0000-0000'\n",
    "    book = {}\n",
    "    model = ''\n",
    "\n",
    "    def on(self):\n",
    "        if self.power == False:\n",
    "            self.power = True\n",
    "\n",
    "    def off(self):\n",
    "        if self.power == True:\n",
    "            self.power = False\n",
    "\n",
    "    def call(self, target):\n",
    "        if self.power == True:\n",
    "            print(f'{self.number}에서 {target}로 전화거는 중.')\n",
    "        else:\n",
    "            print('핸드폰이 꺼져 있습니다.')\n",
    "\n",
    "    "
   ]
  },
  {
   "cell_type": "code",
   "execution_count": 56,
   "id": "99d15cb4-b6a0-41ef-9135-12075f1a1921",
   "metadata": {},
   "outputs": [],
   "source": [
    "my_phone = Phone()\n",
    "your_phone = Phone()"
   ]
  },
  {
   "cell_type": "code",
   "execution_count": 57,
   "id": "249863bf-4485-41da-bcf0-d72b2467270a",
   "metadata": {},
   "outputs": [
    {
     "name": "stdout",
     "output_type": "stream",
     "text": [
      "010-0000-0000\n"
     ]
    }
   ],
   "source": [
    "print(my_phone.number)"
   ]
  },
  {
   "cell_type": "code",
   "execution_count": 58,
   "id": "8ae350ce-49ae-4488-a070-cda407c651e3",
   "metadata": {},
   "outputs": [],
   "source": [
    "my_phone.number = '010-1234-1234'"
   ]
  },
  {
   "cell_type": "code",
   "execution_count": 59,
   "id": "9fdfd257-0443-462c-9e5c-d7aea861429e",
   "metadata": {},
   "outputs": [],
   "source": [
    "your_phone.number = '010-4321-4321'"
   ]
  },
  {
   "cell_type": "code",
   "execution_count": 60,
   "id": "9b1f2ace-d6e9-4634-8268-4720eaa07391",
   "metadata": {},
   "outputs": [
    {
     "name": "stdout",
     "output_type": "stream",
     "text": [
      "핸드폰이 꺼져 있습니다.\n"
     ]
    }
   ],
   "source": [
    "my_phone.call(your_phone.number)"
   ]
  },
  {
   "cell_type": "code",
   "execution_count": 62,
   "id": "0e4c26fb-6269-4b9e-9f43-f09b794283d8",
   "metadata": {},
   "outputs": [
    {
     "name": "stdout",
     "output_type": "stream",
     "text": [
      "True\n",
      "010-1234-1234에서 010-4321-4321로 전화거는 중.\n",
      "010-1234-1234에서 112로 전화거는 중.\n"
     ]
    }
   ],
   "source": [
    "my_phone.on()\n",
    "print(my_phone.power)\n",
    "my_phone.call(your_phone.number)\n",
    "my_phone.call('112')"
   ]
  },
  {
   "cell_type": "code",
   "execution_count": 115,
   "id": "185a039a-f73b-45b9-adeb-f647d7512d6d",
   "metadata": {},
   "outputs": [
    {
     "name": "stdout",
     "output_type": "stream",
     "text": [
      "010-2-2에서 119로 전화거는 중.\n"
     ]
    }
   ],
   "source": [
    "your_phone.on()\n",
    "your_phone.call('119')"
   ]
  },
  {
   "cell_type": "code",
   "execution_count": null,
   "id": "23048319-b614-4f48-a72e-607d780aebbf",
   "metadata": {},
   "outputs": [],
   "source": [
    "third"
   ]
  },
  {
   "cell_type": "code",
   "execution_count": 110,
   "id": "5d39bd2f-5a24-44e7-96d1-25548849f7eb",
   "metadata": {},
   "outputs": [],
   "source": [
    "class MyList():\n",
    "    \n",
    "    data = []\n",
    "\n",
    "    def append(self, number):\n",
    "        self.data = self.data + [number]\n",
    "\n",
    "    def pop(self):\n",
    "        result = self.data[-1]\n",
    "        self.data = self.data[:-1]\n",
    "        return result"
   ]
  },
  {
   "cell_type": "code",
   "execution_count": null,
   "id": "57ff70a4-329d-473b-acb4-2ddb162a3b95",
   "metadata": {},
   "outputs": [],
   "source": []
  },
  {
   "cell_type": "code",
   "execution_count": 111,
   "id": "5f0f775d-7eb4-4f72-b399-baaf41b2f920",
   "metadata": {},
   "outputs": [
    {
     "name": "stdout",
     "output_type": "stream",
     "text": [
      "[]\n",
      "[5]\n",
      "[]\n"
     ]
    }
   ],
   "source": [
    "list_a = MyList()\n",
    "\n",
    "print(list_a.data) # => []\n",
    "\n",
    "list_a.append(5)\n",
    "print(list_a.data) # => [5]\n",
    "\n",
    "list_a.pop()\n",
    "print(list_a.data) #=> []"
   ]
  },
  {
   "cell_type": "code",
   "execution_count": 113,
   "id": "d6f75ed4-285a-4566-9678-77b5e08560ee",
   "metadata": {},
   "outputs": [
    {
     "name": "stdout",
     "output_type": "stream",
     "text": [
      "['일', '이', '삼']\n"
     ]
    }
   ],
   "source": [
    "list_b = MyList()\n",
    "list_b.append('일')\n",
    "list_b.append('이')\n",
    "list_b.append('삼')\n",
    "print(list_b.data)"
   ]
  },
  {
   "cell_type": "code",
   "execution_count": null,
   "id": "9ec52149-920e-458e-b5d9-c3bf737b28f3",
   "metadata": {},
   "outputs": [],
   "source": []
  },
  {
   "cell_type": "code",
   "execution_count": null,
   "id": "380a2765-ba42-4289-a42b-558dfc25c3f7",
   "metadata": {},
   "outputs": [],
   "source": []
  },
  {
   "cell_type": "code",
   "execution_count": null,
   "id": "1aae728e-52fd-4acc-aa7b-b8bd47e308ea",
   "metadata": {},
   "outputs": [],
   "source": []
  },
  {
   "cell_type": "code",
   "execution_count": 85,
   "id": "06bc7f64-a836-407c-b3aa-9eb8d3e2023e",
   "metadata": {},
   "outputs": [
    {
     "data": {
      "text/plain": [
       "1"
      ]
     },
     "execution_count": 85,
     "metadata": {},
     "output_type": "execute_result"
    }
   ],
   "source": [
    "list_a.data.pop()"
   ]
  },
  {
   "cell_type": "code",
   "execution_count": 86,
   "id": "aada7d7a-a742-4dd1-b56b-c12b2d3787cd",
   "metadata": {},
   "outputs": [
    {
     "name": "stdout",
     "output_type": "stream",
     "text": [
      "[]\n"
     ]
    }
   ],
   "source": [
    "print(list_a.data)"
   ]
  },
  {
   "cell_type": "markdown",
   "id": "b1e0dad7-1f78-42c7-afa8-0d3ce5c39b24",
   "metadata": {},
   "source": []
  },
  {
   "cell_type": "markdown",
   "id": "b17bb41f-985b-4ff1-a370-628dea2db845",
   "metadata": {},
   "source": []
  },
  {
   "cell_type": "markdown",
   "id": "a589f09d-cecf-4c1b-8d7a-6d03f7323af9",
   "metadata": {},
   "source": [
    "## 생성자, 소멸자\n",
    "\n",
    "```python\n",
    "class MyClass():\n",
    "    def __init__(self):\n",
    "        pass\n",
    "\n",
    "    def __del__(self):\n",
    "        pass\n",
    "\n",
    "```"
   ]
  },
  {
   "cell_type": "code",
   "execution_count": 123,
   "id": "eb20a298-a5c7-46f9-8ba4-fa0bd192e19a",
   "metadata": {},
   "outputs": [],
   "source": [
    "class Person():\n",
    "    name = ''\n",
    "\n",
    "    def __init__(self, name='익명'):\n",
    "        self.name = name\n",
    "        print('생성됨')\n",
    "    def __del__(self):\n",
    "        print('소멸됨')"
   ]
  },
  {
   "cell_type": "code",
   "execution_count": 120,
   "id": "9aa34fa9-a415-4e4d-85e2-ae80b3fb54f6",
   "metadata": {},
   "outputs": [
    {
     "name": "stdout",
     "output_type": "stream",
     "text": [
      "생성됨\n",
      "소멸됨\n",
      "lee\n"
     ]
    }
   ],
   "source": [
    "p1 =  Person('lee')\n",
    "print(p1.name)"
   ]
  },
  {
   "cell_type": "code",
   "execution_count": 122,
   "id": "3dd98942-498f-469c-8d8c-5eada92b3061",
   "metadata": {},
   "outputs": [
    {
     "name": "stdout",
     "output_type": "stream",
     "text": [
      "lee\n"
     ]
    }
   ],
   "source": [
    "print(p1.name)"
   ]
  },
  {
   "cell_type": "code",
   "execution_count": 124,
   "id": "582e9e0c-c07c-4b36-a88c-d2be6beee5d7",
   "metadata": {},
   "outputs": [
    {
     "name": "stdout",
     "output_type": "stream",
     "text": [
      "생성됨\n",
      "익명\n"
     ]
    }
   ],
   "source": [
    "p2 = Person()\n",
    "print(p2.name)"
   ]
  },
  {
   "cell_type": "code",
   "execution_count": 125,
   "id": "39ebaeaa-c24b-402d-9af1-d3342d387cb1",
   "metadata": {},
   "outputs": [
    {
     "name": "stdout",
     "output_type": "stream",
     "text": [
      "소멸됨\n"
     ]
    }
   ],
   "source": [
    "del p2"
   ]
  },
  {
   "cell_type": "code",
   "execution_count": 128,
   "id": "2726cf59-3988-44de-9a9a-594760e43ed7",
   "metadata": {},
   "outputs": [
    {
     "name": "stdout",
     "output_type": "stream",
     "text": [
      "생성됨\n"
     ]
    }
   ],
   "source": [
    "p3 = Person()"
   ]
  },
  {
   "cell_type": "code",
   "execution_count": 129,
   "id": "0cb420db-432a-4644-a466-ddd9dc5fbb49",
   "metadata": {},
   "outputs": [
    {
     "name": "stdout",
     "output_type": "stream",
     "text": [
      "익명\n"
     ]
    }
   ],
   "source": [
    "print(p3.name)"
   ]
  },
  {
   "cell_type": "code",
   "execution_count": 161,
   "id": "2a6341c3-0def-41cc-99e6-b9f6364b1810",
   "metadata": {},
   "outputs": [],
   "source": [
    "class Circle():\n",
    "    pi = 3.14\n",
    "\n",
    "    def __init__(self, r, x=0, y=0):\n",
    "        self.r = r\n",
    "        self.x = x\n",
    "        self.y = y\n",
    "\n",
    "    def area(self):\n",
    "        return self.pi * self.pi ** 2\n",
    "\n",
    "    def center(self):\n",
    "        return (self.x, self.y)\n",
    "\n",
    "    def move(self, x, y):\n",
    "        self.x = x\n",
    "        self.y = y\n",
    "        print(f'원의 중심이 {x}, {y}로 이동했습니다.')\n"
   ]
  },
  {
   "cell_type": "code",
   "execution_count": 162,
   "id": "b1e642a8-8982-40e7-b952-ff2129e63d8f",
   "metadata": {},
   "outputs": [],
   "source": [
    "c1 = Circle(2, 1 ,1)"
   ]
  },
  {
   "cell_type": "code",
   "execution_count": 163,
   "id": "4ae5c04e-4cc9-4a8d-9c20-dc311e006efd",
   "metadata": {},
   "outputs": [
    {
     "name": "stdout",
     "output_type": "stream",
     "text": [
      "30.959144000000002\n"
     ]
    }
   ],
   "source": [
    "c2 = Circle(3)\n",
    "print(c2.area())"
   ]
  },
  {
   "cell_type": "code",
   "execution_count": 164,
   "id": "a41d553d-4a24-404d-bc56-24333cecf990",
   "metadata": {},
   "outputs": [
    {
     "name": "stdout",
     "output_type": "stream",
     "text": [
      "(1, 1)\n",
      "(0, 0)\n"
     ]
    }
   ],
   "source": [
    "print(c1.center())\n",
    "print(c2.center())"
   ]
  },
  {
   "cell_type": "code",
   "execution_count": 165,
   "id": "83e99a95-6ba4-4003-b1fe-c6bb6a5ccc34",
   "metadata": {},
   "outputs": [
    {
     "name": "stdout",
     "output_type": "stream",
     "text": [
      "원의 중심이 1, 2로 이동했습니다.\n"
     ]
    },
    {
     "data": {
      "text/plain": [
       "(1, 2)"
      ]
     },
     "execution_count": 165,
     "metadata": {},
     "output_type": "execute_result"
    }
   ],
   "source": [
    "c2.move(1, 2)\n",
    "c2.center()"
   ]
  },
  {
   "cell_type": "code",
   "execution_count": 166,
   "id": "4972849a-9300-463e-a91e-9702d9ef837b",
   "metadata": {},
   "outputs": [],
   "source": [
    "class Point():\n",
    "    def __init__(self, x, y):\n",
    "        self.x = x\n",
    "        self.y = y\n",
    "\n",
    "    def info(self):\n",
    "        return (self.x, self.y)"
   ]
  },
  {
   "cell_type": "code",
   "execution_count": 171,
   "id": "715a307b-42a5-406e-882d-62c510deaff5",
   "metadata": {},
   "outputs": [],
   "source": [
    "class Circle():\n",
    "    def __init__(self, point, r):\n",
    "        self.point = point\n",
    "        self.r = r\n",
    "\n",
    "    def info(self):\n",
    "        return (self.point.x, self.point.y, self.r)\n",
    "\n",
    "    def move(self, x, y):\n",
    "        self.point.x = x\n",
    "        self.point.y = y"
   ]
  },
  {
   "cell_type": "code",
   "execution_count": 173,
   "id": "18293595-e24b-4ba1-9628-cb12a2c04c4a",
   "metadata": {},
   "outputs": [
    {
     "name": "stdout",
     "output_type": "stream",
     "text": [
      "(1, 2)\n"
     ]
    }
   ],
   "source": [
    "p1 = Point(1, 2)\n",
    "print(p1.info())"
   ]
  },
  {
   "cell_type": "code",
   "execution_count": 174,
   "id": "bc2e27e7-2a75-4b75-b90b-380203c99138",
   "metadata": {},
   "outputs": [
    {
     "name": "stdout",
     "output_type": "stream",
     "text": [
      "(1, 2, 5)\n"
     ]
    }
   ],
   "source": [
    "c1 = Circle(p1, 5)\n",
    "print(c1.info())"
   ]
  },
  {
   "cell_type": "code",
   "execution_count": 175,
   "id": "eb34cb0f-53c3-4c36-b979-57857e3b71ff",
   "metadata": {},
   "outputs": [
    {
     "name": "stdout",
     "output_type": "stream",
     "text": [
      "(5, 5, 5)\n"
     ]
    }
   ],
   "source": [
    "c1.move(5, 5)\n",
    "print(c1.info())"
   ]
  },
  {
   "cell_type": "markdown",
   "id": "23e09123-bebd-486f-ac19-ccd973ef52ff",
   "metadata": {},
   "source": [
    "### 클래스 변수\n",
    "- 클래스 선언 블록 최상단에 위치\n",
    "\n",
    "### 인스턴스 변수\n",
    "- 인스턴스 내부에서 생성한 변수 (`self.variable = `)\n",
    "\n",
    "```python\n",
    "class MyClass():\n",
    "    class_variable = '클래스변수'\n",
    "\n",
    "    def __init__(self):\n",
    "        self.instance_variable = '인스턴스변수'\n",
    "```"
   ]
  },
  {
   "cell_type": "code",
   "execution_count": 178,
   "id": "de90ca72-bd30-43c5-ba04-ddbc6e97da7f",
   "metadata": {},
   "outputs": [],
   "source": [
    "class Person():\n",
    "    name = '홍길동'\n",
    "    phone = '010-1-1'\n",
    "\n",
    "    def __init__(self, name):\n",
    "        self.name = name"
   ]
  },
  {
   "cell_type": "code",
   "execution_count": 179,
   "id": "50552ed6-8635-42b9-9695-78c3ca79b843",
   "metadata": {},
   "outputs": [
    {
     "name": "stdout",
     "output_type": "stream",
     "text": [
      "010-1-1\n",
      "김태주\n"
     ]
    }
   ],
   "source": [
    "p1 = Person('김태주')\n",
    "print(p1.phone) #=>클래스변수접근\n",
    "print(p1.name) #=>인스턴스변수접근"
   ]
  },
  {
   "cell_type": "markdown",
   "id": "ec6f8c46-2374-46bc-8fa2-492a797e12d0",
   "metadata": {},
   "source": [
    "### 클래스 메소드, 인스턴스 메소드, 스택틱메소드\n",
    "\n",
    "```python\n",
    "class MyClass():\n",
    "    def instance_method(self):\n",
    "        pass\n",
    "\n",
    "    @classmethod\n",
    "    def class_method(cls):\n",
    "        pass\n",
    "\n",
    "    @staticmethod\n",
    "    def static_method():\n",
    "        pass"
   ]
  },
  {
   "cell_type": "code",
   "execution_count": 180,
   "id": "d109b7d1-afc4-4fbf-9aa7-dc4906d59401",
   "metadata": {},
   "outputs": [],
   "source": [
    "class MyClass():\n",
    "    def instance_method(self):\n",
    "        return self\n",
    "\n",
    "    @classmethod\n",
    "    def class_method(cls):\n",
    "        return cls\n",
    "\n",
    "    @staticmethod\n",
    "    def static_method():\n",
    "        return 'hello'"
   ]
  },
  {
   "cell_type": "code",
   "execution_count": 183,
   "id": "f98fdc0a-6a27-44e5-a107-21ec0b62f5e8",
   "metadata": {},
   "outputs": [
    {
     "name": "stdout",
     "output_type": "stream",
     "text": [
      "<bound method MyClass.instance_method of <__main__.MyClass object at 0x103ae5520>>\n",
      "<class '__main__.MyClass'>\n"
     ]
    }
   ],
   "source": [
    "c1 = MyClass()\n",
    "\n",
    "print(c1.instance_method)\n",
    "print(MyClass.class_method())"
   ]
  },
  {
   "cell_type": "code",
   "execution_count": 210,
   "id": "d5cd30b2-08f3-4fb9-9913-bcc8944dcb90",
   "metadata": {},
   "outputs": [],
   "source": [
    "class Puppy():\n",
    "    num_of_puppy = 0\n",
    "\n",
    "    def __init__(self,name):\n",
    "        self.name = name\n",
    "        Puppy.num_of_puppy += 1\n",
    "\n",
    "    @classmethod\n",
    "    def get_status(cls):\n",
    "\n",
    "        print(f'현재 강아지는 {cls.num_of_puppy}마리입니다.')\n",
    "\n",
    "#   @staticmethod\n",
    "    def bark()\n",
    "        code\n",
    "    def bark(self):\n",
    "        print('멍멍')\n",
    "\n",
    "    def bark2(self):\n",
    "        print(f'내이름은{self.name}이야. 멍멍')"
   ]
  },
  {
   "cell_type": "code",
   "execution_count": 214,
   "id": "812f433e-ec0a-441c-8156-470a6adbc9a7",
   "metadata": {},
   "outputs": [
    {
     "name": "stdout",
     "output_type": "stream",
     "text": [
      "현재 강아지는 12마리입니다.\n",
      "멍멍\n",
      "내이름은초코이야. 멍멍\n",
      "내이름은인절미이야. 멍멍\n",
      "내이름은별이이야. 멍멍\n"
     ]
    }
   ],
   "source": [
    "p1 = Puppy('초코')\n",
    "p2 = Puppy('인절미')\n",
    "p3 = Puppy('별이')\n",
    "\n",
    "Puppy.get_status()\n",
    "\n",
    "p1.bark()\n",
    "p1.bark2()\n",
    "p2.bark2()\n",
    "p3.bark2()"
   ]
  },
  {
   "cell_type": "markdown",
   "id": "1e9c8f5b-e9a3-4928-add3-2a3c9a599f07",
   "metadata": {},
   "source": [
    "### 상속"
   ]
  },
  {
   "cell_type": "markdown",
   "id": "74878c93-6d3c-41e7-a3a7-d226d11ef595",
   "metadata": {},
   "source": [
    "### 상속"
   ]
  },
  {
   "cell_type": "markdown",
   "id": "c127d88e-054e-4901-9e47-9216b0b9f1d4",
   "metadata": {},
   "source": []
  },
  {
   "cell_type": "markdown",
   "id": "94e14579-d7ea-4bf2-9ba4-c461a6ca3aba",
   "metadata": {},
   "source": [
    "### 상속"
   ]
  },
  {
   "cell_type": "markdown",
   "id": "87bf4bb2-e027-45f5-8b49-bac270233f09",
   "metadata": {},
   "source": [
    "class Person():\n",
    "    ident = '111111-1111111'\n",
    "\n",
    "    def __init__(self, name):\n",
    "        self.name = name\n",
    "\n"
   ]
  },
  {
   "cell_type": "code",
   "execution_count": 237,
   "id": "78735128-514b-4b8f-8f2a-c07a2cc81882",
   "metadata": {},
   "outputs": [],
   "source": [
    "class Soldier(Person): #괄호 안에 상위 클래스 넣어서 상속하기\n",
    "    #ident = '111111-1111111'\n",
    "\n",
    "    #def __init__(self, name):\n",
    "    #    self.name = name\n",
    "\n",
    "    def greeting(self): #오버라이팅, 같은 함수를 같은 이름으로 정의하게되면 해당 함수는 정의한 함수로 바뀐다.\n",
    "        print(f'충성! {self.name}입니다.')"
   ]
  },
  {
   "cell_type": "code",
   "execution_count": 238,
   "id": "dc6adac5-7502-42c8-ba03-1ea435466289",
   "metadata": {},
   "outputs": [],
   "source": [
    "s1 = Soldier('국방이')"
   ]
  },
  {
   "cell_type": "code",
   "execution_count": 239,
   "id": "819f4132-5041-4af5-8e87-f187648ddc26",
   "metadata": {},
   "outputs": [
    {
     "name": "stdout",
     "output_type": "stream",
     "text": [
      "충성! 국방이입니다.\n"
     ]
    }
   ],
   "source": [
    "s1.greeting()"
   ]
  },
  {
   "cell_type": "code",
   "execution_count": 240,
   "id": "10fb91e8-75f2-4354-a152-61168876d9a3",
   "metadata": {},
   "outputs": [
    {
     "name": "stdout",
     "output_type": "stream",
     "text": [
      "111111-1111111\n"
     ]
    }
   ],
   "source": [
    "print(s1.ident)"
   ]
  },
  {
   "cell_type": "code",
   "execution_count": 242,
   "id": "c27ca8da-0796-4545-abda-d8992b1b919c",
   "metadata": {},
   "outputs": [],
   "source": [
    "class Student(Person):\n",
    "    pass"
   ]
  },
  {
   "cell_type": "code",
   "execution_count": 245,
   "id": "73f502e2-91f7-4c24-a5d6-f0152620f12d",
   "metadata": {},
   "outputs": [],
   "source": [
    "class Person():\n",
    "    def __init__(self, name, email, phone, location):\n",
    "        self.name = name\n",
    "        self.email = email\n",
    "        self.phone = phone\n",
    "        self.location = location\n",
    "\n",
    "class Student(Person):\n",
    "    def __init__(self, name, email, phone, location, student_id):\n",
    "        super().__init__(name, email, phone, location)\n",
    "        self.student_id = student_id"
   ]
  },
  {
   "cell_type": "code",
   "execution_count": 247,
   "id": "cf258562-1029-4ec9-92b1-a1cdbc576c3a",
   "metadata": {},
   "outputs": [],
   "source": [
    "p1 = Person('hong', 'test@gmail.com', '010-1-1', 'seoul')\n",
    "s1 = Student('kim', 'kim@gmail.com', '1234', 'seoul', '123412')"
   ]
  },
  {
   "cell_type": "markdown",
   "id": "4ee9a62f-0f9b-4d09-92ab-a065ed441d45",
   "metadata": {},
   "source": [
    "### 다중상속"
   ]
  },
  {
   "cell_type": "code",
   "execution_count": 255,
   "id": "2d6a3732-c78d-4556-a2fb-9a7d1771ca7a",
   "metadata": {},
   "outputs": [],
   "source": [
    "class Person():\n",
    "    def __init__(self, name):\n",
    "        self.name = name\n",
    "    def breath(self):\n",
    "        print('후하')"
   ]
  },
  {
   "cell_type": "code",
   "execution_count": 256,
   "id": "0773e778-2260-4603-a212-baf69614a26e",
   "metadata": {},
   "outputs": [],
   "source": [
    "class Mom(Person):\n",
    "    gene = 'xx'\n",
    "    def swim(self):\n",
    "        print('어푸어푸')"
   ]
  },
  {
   "cell_type": "code",
   "execution_count": 257,
   "id": "3a8aef5c-e4b6-44d0-bf00-eae643a8a0c6",
   "metadata": {},
   "outputs": [],
   "source": [
    "class Dad(Person):\n",
    "    gene = 'xy'\n",
    "\n",
    "    def run(self):\n",
    "        print('다다다')"
   ]
  },
  {
   "cell_type": "code",
   "execution_count": 258,
   "id": "4adf58ed-08a8-4811-8001-75e1a2b48926",
   "metadata": {},
   "outputs": [],
   "source": [
    "class Baby(Mom, Dad):\n",
    "    def cry(self):\n",
    "        print('응애')"
   ]
  },
  {
   "cell_type": "code",
   "execution_count": 260,
   "id": "baf86d97-63db-4b1a-938e-dd29fbf64fea",
   "metadata": {},
   "outputs": [
    {
     "name": "stdout",
     "output_type": "stream",
     "text": [
      "금쪽이\n",
      "다다다\n",
      "후하\n",
      "xx\n"
     ]
    }
   ],
   "source": [
    "b = Baby('금쪽이')\n",
    "print(b.name)\n",
    "\n",
    "b.run()\n",
    "b.breath()\n",
    "\n",
    "print(b.gene)"
   ]
  },
  {
   "cell_type": "code",
   "execution_count": null,
   "id": "b238b8e1-f497-49f8-8da4-682af0c3c4b0",
   "metadata": {},
   "outputs": [],
   "source": []
  }
 ],
 "metadata": {
  "kernelspec": {
   "display_name": "Python 3 (ipykernel)",
   "language": "python",
   "name": "python3"
  },
  "language_info": {
   "codemirror_mode": {
    "name": "ipython",
    "version": 3
   },
   "file_extension": ".py",
   "mimetype": "text/x-python",
   "name": "python",
   "nbconvert_exporter": "python",
   "pygments_lexer": "ipython3",
   "version": "3.12.4"
  }
 },
 "nbformat": 4,
 "nbformat_minor": 5
}
