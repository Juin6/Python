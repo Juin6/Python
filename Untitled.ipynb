{
 "cells": [
  {
   "cell_type": "code",
   "execution_count": 39,
   "id": "3c33733d-9ecc-41df-8013-854cc00de20c",
   "metadata": {},
   "outputs": [
    {
     "ename": "IndentationError",
     "evalue": "unexpected indent (3878432269.py, line 8)",
     "output_type": "error",
     "traceback": [
      "\u001b[0;36m  Cell \u001b[0;32mIn[39], line 8\u001b[0;36m\u001b[0m\n\u001b[0;31m    database = {}\u001b[0m\n\u001b[0m    ^\u001b[0m\n\u001b[0;31mIndentationError\u001b[0m\u001b[0;31m:\u001b[0m unexpected indent\n"
     ]
    }
   ],
   "source": [
    "record = [\"Enter uid1234 Muzi\", \"Enter uid4567 Prodo\", \"Leave uid1234\", \"Enter uid1234 Prodo\", \"Change uid4567 Ryan\"]\n",
    "answer = []\n",
    "    \n",
    "    #딕셔너리 아이디값으로 구분, 들어오고 나가는거 순서\n",
    "    #엔터 시 쌓기, 리브 시 쌓기, 이 때 닉네임을을 딕셔너리 아이디값으로 불러오기\n",
    "    #체인지 나오면 딕셔너리 아이디값의 닉네임 구분\n",
    "\n",
    "    database = {}\n",
    "    chatlog = []\n",
    "\n",
    "    for i in record:\n",
    "        mydata = i.split()\n",
    "        if mydata[0] == 'Enter':\n",
    "            database[mydata[1]] = mydata[2]\n",
    "            chatlog.append([1, mydata[1]])\n",
    "        elif mydata[0] == 'Change':\n",
    "            database[mydata[1]] = mydata[2]\n",
    "        else:\n",
    "            chatlog.append([0, mydata[1]])\n",
    "\n",
    "    for activity in chatlog:\n",
    "        nickname = database[activity[1]]\n",
    "        if activity[0]:\n",
    "            answer.append(f'{nickname}님이 들어왔습니다.')\n",
    "    \n",
    "print(database)\n",
    "print(chatlog)\n",
    "print(answer)\n"
   ]
  },
  {
   "cell_type": "code",
   "execution_count": 18,
   "id": "af5198fa-8920-4b8c-b539-1793ed897973",
   "metadata": {},
   "outputs": [
    {
     "ename": "AttributeError",
     "evalue": "'list' object has no attribute 'split'",
     "output_type": "error",
     "traceback": [
      "\u001b[0;31m---------------------------------------------------------------------------\u001b[0m",
      "\u001b[0;31mAttributeError\u001b[0m                            Traceback (most recent call last)",
      "Cell \u001b[0;32mIn[18], line 1\u001b[0m\n\u001b[0;32m----> 1\u001b[0m \u001b[43msolution\u001b[49m\u001b[43m(\u001b[49m\u001b[43m[\u001b[49m\u001b[38;5;124;43m\"\u001b[39;49m\u001b[38;5;124;43mEnter uid1234 Muzi\u001b[39;49m\u001b[38;5;124;43m\"\u001b[39;49m\u001b[43m,\u001b[49m\u001b[43m \u001b[49m\u001b[38;5;124;43m\"\u001b[39;49m\u001b[38;5;124;43mEnter uid4567 Prodo\u001b[39;49m\u001b[38;5;124;43m\"\u001b[39;49m\u001b[43m,\u001b[49m\u001b[38;5;124;43m\"\u001b[39;49m\u001b[38;5;124;43mLeave uid1234\u001b[39;49m\u001b[38;5;124;43m\"\u001b[39;49m\u001b[43m,\u001b[49m\u001b[38;5;124;43m\"\u001b[39;49m\u001b[38;5;124;43mEnter uid1234 Prodo\u001b[39;49m\u001b[38;5;124;43m\"\u001b[39;49m\u001b[43m,\u001b[49m\u001b[38;5;124;43m\"\u001b[39;49m\u001b[38;5;124;43mChange uid4567 Ryan\u001b[39;49m\u001b[38;5;124;43m\"\u001b[39;49m\u001b[43m]\u001b[49m\u001b[43m)\u001b[49m\n\u001b[1;32m      2\u001b[0m \u001b[38;5;66;03m#[\"Prodo님이 들어왔습니다.\", \"Ryan님이 들어왔습니다.\", \"Prodo님이 나갔습니다.\", \"Prodo님이 들어왔습니다.\"]\u001b[39;00m\n",
      "Cell \u001b[0;32mIn[3], line 8\u001b[0m, in \u001b[0;36msolution\u001b[0;34m(record)\u001b[0m\n\u001b[1;32m      2\u001b[0m answer \u001b[38;5;241m=\u001b[39m []\n\u001b[1;32m      4\u001b[0m \u001b[38;5;66;03m#딕셔너리 아이디값으로 구분, 들어오고 나가는거 순서\u001b[39;00m\n\u001b[1;32m      5\u001b[0m \u001b[38;5;66;03m#엔터 시 쌓기, 리브 시 쌓기, 이 때 닉네임을을 딕셔너리 아이디값으로 불러오기\u001b[39;00m\n\u001b[1;32m      6\u001b[0m \u001b[38;5;66;03m#체인지 나오면 딕셔너리 아이디값의 닉네임 구분\u001b[39;00m\n\u001b[0;32m----> 8\u001b[0m \u001b[43mrecord\u001b[49m\u001b[38;5;241;43m.\u001b[39;49m\u001b[43msplit\u001b[49m(\u001b[38;5;124m'\u001b[39m\u001b[38;5;124m,\u001b[39m\u001b[38;5;124m'\u001b[39m)\n\u001b[1;32m      9\u001b[0m \u001b[38;5;28mprint\u001b[39m(record)\n\u001b[1;32m     11\u001b[0m \u001b[38;5;28;01mreturn\u001b[39;00m answer\n",
      "\u001b[0;31mAttributeError\u001b[0m: 'list' object has no attribute 'split'"
     ]
    }
   ],
   "source": [
    "solution([\"Enter uid1234 Muzi\", \"Enter uid4567 Prodo\",\"Leave uid1234\",\"Enter uid1234 Prodo\",\"Change uid4567 Ryan\"])\n",
    "#[\"Prodo님이 들어왔습니다.\", \"Ryan님이 들어왔습니다.\", \"Prodo님이 나갔습니다.\", \"Prodo님이 들어왔습니다.\"]"
   ]
  },
  {
   "cell_type": "code",
   "execution_count": 28,
   "id": "0be9374e-ed46-4c4f-8cbc-9a214798568b",
   "metadata": {},
   "outputs": [
    {
     "data": {
      "text/plain": [
       "'Muzi'"
      ]
     },
     "execution_count": 28,
     "metadata": {},
     "output_type": "execute_result"
    }
   ],
   "source": [
    "\"Enter uid1234 Muzi\".split()[2]"
   ]
  },
  {
   "cell_type": "code",
   "execution_count": null,
   "id": "30a6dcf5-529b-4db3-bf7c-65cca366d378",
   "metadata": {},
   "outputs": [],
   "source": []
  },
  {
   "cell_type": "code",
   "execution_count": null,
   "id": "e6ddd784-4697-41b8-a078-a98a046ff1a8",
   "metadata": {},
   "outputs": [],
   "source": []
  },
  {
   "cell_type": "code",
   "execution_count": null,
   "id": "581b5004-a3ce-4c9a-a333-ea7e5854190c",
   "metadata": {},
   "outputs": [],
   "source": []
  },
  {
   "cell_type": "code",
   "execution_count": 4,
   "id": "efa4b373-0f2d-4a5e-ac67-1d0ae71dc50a",
   "metadata": {},
   "outputs": [],
   "source": []
  },
  {
   "cell_type": "code",
   "execution_count": 5,
   "id": "8f0e2490-f906-4553-880d-607e13f561e8",
   "metadata": {},
   "outputs": [
    {
     "data": {
      "text/plain": [
       "4"
      ]
     },
     "execution_count": 5,
     "metadata": {},
     "output_type": "execute_result"
    }
   ],
   "source": []
  },
  {
   "cell_type": "code",
   "execution_count": 6,
   "id": "92326cfe-3574-40f9-9bbb-cdbdaef9e047",
   "metadata": {},
   "outputs": [
    {
     "ename": "NameError",
     "evalue": "name 'lotto_dict' is not defined",
     "output_type": "error",
     "traceback": [
      "\u001b[0;31m---------------------------------------------------------------------------\u001b[0m",
      "\u001b[0;31mNameError\u001b[0m                                 Traceback (most recent call last)",
      "Cell \u001b[0;32mIn[6], line 3\u001b[0m\n\u001b[1;32m      1\u001b[0m lucky \u001b[38;5;241m=\u001b[39m []\n\u001b[1;32m      2\u001b[0m \u001b[38;5;28;01mfor\u001b[39;00m i \u001b[38;5;129;01min\u001b[39;00m \u001b[38;5;28mrange\u001b[39m(\u001b[38;5;241m1\u001b[39m, \u001b[38;5;241m7\u001b[39m):\n\u001b[0;32m----> 3\u001b[0m     lucky\u001b[38;5;241m.\u001b[39mappend(\u001b[43mlotto_dict\u001b[49m[\u001b[38;5;124mf\u001b[39m\u001b[38;5;124m'\u001b[39m\u001b[38;5;124mdrwtNo\u001b[39m\u001b[38;5;132;01m{\u001b[39;00mi\u001b[38;5;132;01m}\u001b[39;00m\u001b[38;5;124m'\u001b[39m])\n\u001b[1;32m      5\u001b[0m bonus \u001b[38;5;241m=\u001b[39m [lotto_dict[\u001b[38;5;124m'\u001b[39m\u001b[38;5;124mbnusNo\u001b[39m\u001b[38;5;124m'\u001b[39m]]\n\u001b[1;32m      7\u001b[0m \u001b[38;5;28mprint\u001b[39m(\u001b[38;5;124mf\u001b[39m\u001b[38;5;124m'\u001b[39m\u001b[38;5;124m이번주 당첨번호 : \u001b[39m\u001b[38;5;132;01m{\u001b[39;00mlucky\u001b[38;5;132;01m}\u001b[39;00m\u001b[38;5;124m, BN: \u001b[39m\u001b[38;5;132;01m{\u001b[39;00mbonus\u001b[38;5;132;01m}\u001b[39;00m\u001b[38;5;124m'\u001b[39m)\n",
      "\u001b[0;31mNameError\u001b[0m: name 'lotto_dict' is not defined"
     ]
    }
   ],
   "source": [
    "lucky = []\n",
    "for i in range(1, 7):\n",
    "    lucky.append(lotto_dict[f'drwtNo{i}'])\n",
    "\n",
    "bonus = [lotto_dict['bnusNo']]\n",
    "\n",
    "print(f'이번주 당첨번호 : {lucky}, BN: {bonus}')\n",
    "#\n",
    "d = { }\n",
    "for i in range(1, 6):\n",
    "    d[f'{i}회차'] = random.sample(numbers, 6)\n",
    "\n",
    "print(d)\n",
    "\n",
    "def countman(x, y):\n",
    "    num = 0\n",
    "    for i in x:\n",
    "        if i in y:\n",
    "            num += 1\n",
    "    return num\n",
    "\n",
    "\n",
    "def buy(x, y, z):\n",
    "    # x는 [7, 24 ...]: 산거 Y는 [30, 24] ... 보너스: 당첨번호\n",
    "    if countman(x, y) == 6:\n",
    "        return '1등입니다.'\n",
    "    elif countman(x, y) == 5 and z in x:\n",
    "        return '2등입니다.'\n",
    "    elif countman(x, y) == 5:\n",
    "        return '3등입니다.'\n",
    "    elif countman(x, y) == 4:\n",
    "        return '4등입니다.'\n",
    "    elif countman(x, y) == 3:\n",
    "        return '5등입니다.'\n",
    "    else :\n",
    "        return '꽝.'\n",
    "\n",
    "for value in d.values():\n",
    "    print(buy(value, lucky, bonus))"
   ]
  },
  {
   "cell_type": "code",
   "execution_count": null,
   "id": "2f2dc279-e454-48d6-b09b-d54e7b2fcb34",
   "metadata": {},
   "outputs": [],
   "source": []
  }
 ],
 "metadata": {
  "kernelspec": {
   "display_name": "Python 3 (ipykernel)",
   "language": "python",
   "name": "python3"
  },
  "language_info": {
   "codemirror_mode": {
    "name": "ipython",
    "version": 3
   },
   "file_extension": ".py",
   "mimetype": "text/x-python",
   "name": "python",
   "nbconvert_exporter": "python",
   "pygments_lexer": "ipython3",
   "version": "3.12.4"
  }
 },
 "nbformat": 4,
 "nbformat_minor": 5
}
