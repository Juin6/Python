{
 "cells": [
  {
   "cell_type": "markdown",
   "id": "77f5e72d-6957-4fd9-b53f-ebedbba53505",
   "metadata": {},
   "source": [
    "# 제어문\n",
    "\n",
    "## 조건문 (if문)\n",
    "\n",
    "1. if문은 반드시 일정한 참/거짓을 판단 할 수 있는 '조건식'과 함께 사용된다.\n",
    "- (if <조건식>:)\n",
    "2. <조건식> 참(True)인 경우 : 이후의 문장을 실행\n",
    "3. <조건식> 거짓(False)인 경우 `else:` 이후의 문장을 실행\n",
    "\n",
    "```\n",
    "if <조건식>:\n",
    "    if의 조건식이 참인 경우 실행\n",
    "else <조건식>:\n",
    "    if의 조건식이 거짓인 경우 실행"
   ]
  },
  {
   "cell_type": "code",
   "execution_count": null,
   "id": "3b5b760b-c84b-4aab-9327-7ce3a052031f",
   "metadata": {},
   "outputs": [],
   "source": [
    "my_string = input()\n",
    "\n",
    "if my_string == '12/25':\n",
    "    print('크리스마스입니다.')\n",
    "else:\n",
    "    print('크리스마스 아닙니다.')"
   ]
  },
  {
   "cell_type": "code",
   "execution_count": null,
   "id": "039ed000-1ea0-4177-95f4-bec95ce4a469",
   "metadata": {},
   "outputs": [],
   "source": [
    "num = input('숫자를 입력해주세요')\n",
    "\n",
    "result = int(num) % 2\n",
    "if result == 1:\n",
    "    print('홀수입니다.')\n",
    "else: print('짝수입니다.')"
   ]
  },
  {
   "cell_type": "code",
   "execution_count": null,
   "id": "afea891f-676f-4287-8ff8-c7c959054392",
   "metadata": {},
   "outputs": [],
   "source": [
    "num = int(input('숫자를 입력해주세요'))\n",
    "\n",
    "if num % 2 == 1:\n",
    "    print('홀수입니다.')\n",
    "\n",
    "else:\n",
    "    print('짝수입니다.')"
   ]
  },
  {
   "cell_type": "code",
   "execution_count": null,
   "id": "4687226d-31af-4454-aad8-6252769bcfb3",
   "metadata": {},
   "outputs": [],
   "source": [
    "score = int(input('시험점수 입력 시 학점을 알려드립니다.'))\n",
    "\n",
    "if score == 100:\n",
    "    print('A+')\n",
    "elif score >= 90 and score:\n",
    "    print('B')\n",
    "elif score >= 80 and score <= 89:\n",
    "    print('C')\n",
    "elif score >= 70 and score <=79:\n",
    "    print('D')\n",
    "else:\n",
    "    print('F')"
   ]
  },
  {
   "cell_type": "code",
   "execution_count": null,
   "id": "1a408c16-7226-46ed-bd6b-47f8030cf6b9",
   "metadata": {},
   "outputs": [],
   "source": [
    "if score >= 90:\n",
    "    print('A')\n",
    "    if score >= 95:\n",
    "        print('참잘했어요.')\n",
    "elif score >= 80:\n",
    "    print('B')"
   ]
  },
  {
   "cell_type": "markdown",
   "id": "c23f2f6c-43dc-46ec-8da4-aba786e37f24",
   "metadata": {},
   "source": [
    "### 조건표현식\n",
    "\n",
    "```\n",
    "- true_value if <조건식> else false_value"
   ]
  },
  {
   "cell_type": "code",
   "execution_count": 1,
   "id": "54e1be95-9ffa-4a2b-b53a-fe8923acc34a",
   "metadata": {},
   "outputs": [
    {
     "name": "stdout",
     "output_type": "stream",
     "text": [
      "True\n"
     ]
    }
   ],
   "source": [
    "print('True') if 1 > 0 else print('False')"
   ]
  },
  {
   "cell_type": "code",
   "execution_count": 3,
   "id": "1b3da591-4bd4-4f5f-acb5-046bcce32ad2",
   "metadata": {},
   "outputs": [
    {
     "name": "stdout",
     "output_type": "stream",
     "text": [
      "0\n"
     ]
    }
   ],
   "source": [
    "num = -1\n",
    "value = num if num >= 0 else 0\n",
    "print(value)"
   ]
  },
  {
   "cell_type": "code",
   "execution_count": 7,
   "id": "a00460b2-c0ef-49bd-bd63-0492b7b54c82",
   "metadata": {},
   "outputs": [
    {
     "name": "stdin",
     "output_type": "stream",
     "text": [
      "숫자 1921\n"
     ]
    },
    {
     "name": "stdout",
     "output_type": "stream",
     "text": [
      "1921\n"
     ]
    }
   ],
   "source": [
    "num = int(input('숫자'))\n",
    "if num >= 0:\n",
    "    value = num\n",
    "else:\n",
    "    value = 0\n",
    "\n",
    "print(value)"
   ]
  },
  {
   "cell_type": "code",
   "execution_count": 8,
   "id": "e1242a15-e6f6-4fde-bfea-de99f8f339f9",
   "metadata": {},
   "outputs": [],
   "source": [
    "num = 2\n",
    "\n",
    "if num % 1:\n",
    "    result = '홀수'\n",
    "else :\n",
    "    result = '짝수'\n",
    "\n"
   ]
  },
  {
   "cell_type": "code",
   "execution_count": 11,
   "id": "3478e200-ea1d-4664-99fc-2e16455b1787",
   "metadata": {},
   "outputs": [
    {
     "ename": "SyntaxError",
     "evalue": "invalid syntax. Maybe you meant '==' or ':=' instead of '='? (1951158944.py, line 2)",
     "output_type": "error",
     "traceback": [
      "\u001b[0;36m  Cell \u001b[0;32mIn[11], line 2\u001b[0;36m\u001b[0m\n\u001b[0;31m    result = '홀수' if num % 1 else result = '짝수'\u001b[0m\n\u001b[0m    ^\u001b[0m\n\u001b[0;31mSyntaxError\u001b[0m\u001b[0;31m:\u001b[0m invalid syntax. Maybe you meant '==' or ':=' instead of '='?\n"
     ]
    }
   ],
   "source": [
    "num = 3\n",
    "result = '홀수' if num % 1 else result = '짝수'\n",
    "print('result')"
   ]
  },
  {
   "cell_type": "markdown",
   "id": "39a86edf-bcdb-422f-acc3-dde779ccadeb",
   "metadata": {},
   "source": [
    "## 반복문\n",
    "\n",
    "### 반복문\n",
    "```\n",
    "    while <조건식>:\n",
    "        실행할 코드\n",
    "```\n",
    "반복문 작성 시에는 무한히 반복되는 코드를 작성하면 안된다."
   ]
  },
  {
   "cell_type": "code",
   "execution_count": 13,
   "id": "9e1bf5e2-ff46-4022-8f6d-429ce9e29403",
   "metadata": {},
   "outputs": [
    {
     "name": "stdout",
     "output_type": "stream",
     "text": [
      "0\n",
      "1\n",
      "2\n",
      "3\n",
      "4\n"
     ]
    }
   ],
   "source": [
    "a = 0\n",
    "\n",
    "while a < 5:\n",
    "    print(a)\n",
    "    a += 1"
   ]
  },
  {
   "cell_type": "code",
   "execution_count": 16,
   "id": "a88f61b0-af26-4dde-a217-52caab81bd59",
   "metadata": {},
   "outputs": [
    {
     "name": "stdin",
     "output_type": "stream",
     "text": [
      "대답 왜\n",
      "대답 ㅇㅐ\n",
      "대답 애\n",
      "대답 아ㄴ\n",
      "대답 안녕\n"
     ]
    },
    {
     "name": "stdout",
     "output_type": "stream",
     "text": [
      "안녕하세요\n"
     ]
    }
   ],
   "source": [
    "greeting = ''\n",
    "\n",
    "while greeting != '안녕':\n",
    "    greeting = input('대답')\n",
    "\n",
    "print(\"안녕하세요\")"
   ]
  },
  {
   "cell_type": "markdown",
   "id": "7f2690bc-a35f-4566-84b6-9b177c501096",
   "metadata": {},
   "source": [
    "### for\n",
    "\n",
    "정해진 범위 내의 반복\n",
    "```\n",
    "for variable(item) in sequence:\n",
    "    code\n",
    "```\n",
    "\n",
    "시퀀스형 데이터에만 적용할 수 있다."
   ]
  },
  {
   "cell_type": "code",
   "execution_count": 18,
   "id": "1b52c993-58f5-4d3f-993d-af7348f24ee9",
   "metadata": {},
   "outputs": [
    {
     "name": "stdout",
     "output_type": "stream",
     "text": [
      "1\n",
      "2\n",
      "3\n",
      "4\n",
      "5\n"
     ]
    }
   ],
   "source": [
    "numbers = [1, 2, 3, 4, 5]\n",
    "\n",
    "for number in numbers:\n",
    "    print(number)"
   ]
  },
  {
   "cell_type": "code",
   "execution_count": 20,
   "id": "da33ee04-9548-42e8-8685-244d5c33ee03",
   "metadata": {},
   "outputs": [
    {
     "name": "stdin",
     "output_type": "stream",
     "text": [
      "단어를 입력해주세요. chatGPT\n"
     ]
    },
    {
     "name": "stdout",
     "output_type": "stream",
     "text": [
      "c\n",
      "h\n",
      "a\n",
      "t\n",
      "G\n",
      "P\n",
      "T\n"
     ]
    }
   ],
   "source": [
    "word = input('단어를 입력해주세요.')\n",
    "\n",
    "for letter in word:\n",
    "    print(letter)"
   ]
  },
  {
   "cell_type": "code",
   "execution_count": 21,
   "id": "6adc7f64-4ae7-4e67-8db3-6dd0f28295a9",
   "metadata": {},
   "outputs": [
    {
     "name": "stdout",
     "output_type": "stream",
     "text": [
      "0\n",
      "1\n",
      "2\n",
      "3\n",
      "4\n"
     ]
    }
   ],
   "source": [
    "for i in range(5):\n",
    "    print(i)"
   ]
  },
  {
   "cell_type": "code",
   "execution_count": 22,
   "id": "4f0ef85f-d129-45d0-9b65-38462ea7176f",
   "metadata": {},
   "outputs": [
    {
     "name": "stdout",
     "output_type": "stream",
     "text": [
      "1\n",
      "2\n",
      "3\n",
      "4\n",
      "5\n"
     ]
    }
   ],
   "source": [
    "for i in (1, 2, 3, 4, 5):\n",
    "    print(i)"
   ]
  },
  {
   "cell_type": "code",
   "execution_count": 30,
   "id": "2732fa2d-c68e-4d29-8290-592e983b85bb",
   "metadata": {},
   "outputs": [
    {
     "name": "stdout",
     "output_type": "stream",
     "text": [
      "1\n",
      "3\n",
      "5\n",
      "7\n",
      "9\n",
      "11\n",
      "13\n",
      "15\n",
      "17\n",
      "19\n",
      "21\n",
      "23\n",
      "25\n",
      "27\n",
      "29\n"
     ]
    }
   ],
   "source": [
    "# 1~30 까지 숫자들 중에 홀수만 출력\n",
    "\n",
    "for i in range(1,31):\n",
    "    if i % 2:\n",
    "        print(i)"
   ]
  },
  {
   "cell_type": "code",
   "execution_count": 33,
   "id": "301fd1e9-5e5e-40c0-bad3-cb06a9f4a5f8",
   "metadata": {},
   "outputs": [
    {
     "name": "stdout",
     "output_type": "stream",
     "text": [
      "(0, '라면')\n",
      "(1, '김밥')\n",
      "(2, '백반')\n"
     ]
    }
   ],
   "source": [
    "menus = ['라면', '김밥', '백반']\n",
    "for menu in enumerate(menus):\n",
    "    print(menu)"
   ]
  },
  {
   "cell_type": "code",
   "execution_count": 34,
   "id": "c0717f02-6c1b-47b7-9100-90e8e791a4a3",
   "metadata": {},
   "outputs": [
    {
     "name": "stdout",
     "output_type": "stream",
     "text": [
      "0\n",
      "라면\n",
      "1\n",
      "김밥\n",
      "2\n",
      "백반\n"
     ]
    }
   ],
   "source": [
    "for index, menu in enumerate(menus):\n",
    "    print(index)\n",
    "    print(menu)"
   ]
  },
  {
   "cell_type": "markdown",
   "id": "5c839077-faa1-4780-84fd-24967bd6189d",
   "metadata": {},
   "source": [
    "### dictionary 반복\n",
    "\n",
    "1. for key in dict:\n",
    "2. for key in dict.keys():\n",
    "3. for value in dict.values():\n",
    "4. for key, value in dict.items():"
   ]
  },
  {
   "cell_type": "code",
   "execution_count": 35,
   "id": "be47d84e-75a0-415b-9bd5-045f77702dcb",
   "metadata": {},
   "outputs": [],
   "source": [
    "info = {\n",
    "    'name': 'gildong',\n",
    "    'location': 'seoul',\n",
    "    'phone': '010-1234-1234',\n",
    "    'age': 20,\n",
    "}"
   ]
  },
  {
   "cell_type": "code",
   "execution_count": 46,
   "id": "209c4c78-ae11-4da0-a0d2-c8eedac10978",
   "metadata": {},
   "outputs": [
    {
     "name": "stdout",
     "output_type": "stream",
     "text": [
      "name gildong\n",
      "location seoul\n",
      "phone 010-1234-1234\n",
      "age 20\n"
     ]
    }
   ],
   "source": [
    "for cat in info:\n",
    "    print(cat, str(info[cat]))"
   ]
  },
  {
   "cell_type": "code",
   "execution_count": 49,
   "id": "18f3b6e6-a596-44c9-b478-8d1fc433bb64",
   "metadata": {},
   "outputs": [
    {
     "name": "stdout",
     "output_type": "stream",
     "text": [
      "name\n",
      "gildong\n",
      "location\n",
      "seoul\n",
      "phone\n",
      "010-1234-1234\n",
      "age\n",
      "20\n"
     ]
    }
   ],
   "source": [
    "for key in info.keys():\n",
    "    print(key)\n",
    "    print(info[key])"
   ]
  },
  {
   "cell_type": "code",
   "execution_count": 52,
   "id": "716ab6f9-73b0-4a31-a81c-f40e4392dfbc",
   "metadata": {},
   "outputs": [
    {
     "name": "stdout",
     "output_type": "stream",
     "text": [
      "dict_values(['gildong', 'seoul', '010-1234-1234', 20])\n",
      "gildong\n",
      "seoul\n",
      "010-1234-1234\n",
      "20\n"
     ]
    }
   ],
   "source": [
    "print(info.values())\n",
    "for value in info.values():\n",
    "    print(value)"
   ]
  },
  {
   "cell_type": "code",
   "execution_count": 54,
   "id": "89d73939-d0a6-4008-99c2-067a8232f19b",
   "metadata": {},
   "outputs": [
    {
     "name": "stdout",
     "output_type": "stream",
     "text": [
      "name gildong\n",
      "location seoul\n",
      "phone 010-1234-1234\n",
      "age 20\n"
     ]
    }
   ],
   "source": [
    "for key, value in info.items():\n",
    "    print(key, value)"
   ]
  },
  {
   "cell_type": "code",
   "execution_count": 56,
   "id": "d794de10-99db-41a1-bf33-1477245f1329",
   "metadata": {},
   "outputs": [
    {
     "ename": "SyntaxError",
     "evalue": "invalid syntax (892184031.py, line 1)",
     "output_type": "error",
     "traceback": [
      "\u001b[0;36m  Cell \u001b[0;32mIn[56], line 1\u001b[0;36m\u001b[0m\n\u001b[0;31m    info.(items)\u001b[0m\n\u001b[0m         ^\u001b[0m\n\u001b[0;31mSyntaxError\u001b[0m\u001b[0;31m:\u001b[0m invalid syntax\n"
     ]
    }
   ],
   "source": [
    "info.(items)"
   ]
  },
  {
   "cell_type": "code",
   "execution_count": 57,
   "id": "dcb34b88-2f47-486d-8470-d1c2bfd17147",
   "metadata": {},
   "outputs": [],
   "source": [
    "blood_type = {\n",
    "    'A': 5,\n",
    "    'B': 3,\n",
    "    'O': 2,\n",
    "    'AB': 2,\n",
    "}"
   ]
  },
  {
   "cell_type": "code",
   "execution_count": 72,
   "id": "abb1c887-678c-4fa3-ab8b-db5968603c58",
   "metadata": {},
   "outputs": [
    {
     "name": "stdout",
     "output_type": "stream",
     "text": [
      "혈액형의 종류는 A B O AB 가 있습니다\n"
     ]
    }
   ],
   "source": [
    "# 혈액형의 종류는 ?? ??입니다.\n",
    "print('혈액형의 종류는', end=' ')\n",
    "for key in blood_type:\n",
    "    print(key, end=' ')\n",
    "print('가 있습니다')"
   ]
  },
  {
   "cell_type": "code",
   "execution_count": 73,
   "id": "3cd2d16b-4b8a-4f76-826b-04e2df50c772",
   "metadata": {},
   "outputs": [
    {
     "name": "stdout",
     "output_type": "stream",
     "text": [
      "총 학생수는 12명입니다.\n"
     ]
    }
   ],
   "source": [
    "# 총 학생수는 몇명입니다.\n",
    "result = 0\n",
    "for value in blood_type.values():\n",
    "    result = result + value\n",
    "\n",
    "print(f'총 학생수는 {result}명입니다.')"
   ]
  },
  {
   "cell_type": "code",
   "execution_count": 77,
   "id": "099c8a80-8fe6-494e-a8bb-688e4cb87d94",
   "metadata": {},
   "outputs": [
    {
     "name": "stdout",
     "output_type": "stream",
     "text": [
      "혈액형의 종류는  A,B,O,AB,가 있습니다\n"
     ]
    }
   ],
   "source": [
    "# 혈액형의 종류는 ?? ??입니다.\n",
    "type = ' '\n",
    "for key in blood_type:\n",
    "    type = type + key + ','\n",
    "print(f'혈액형의 종류는 {type}가 있습니다')"
   ]
  },
  {
   "cell_type": "markdown",
   "id": "15bce535-d310-4265-96b6-94a6941dfd45",
   "metadata": {},
   "source": [
    "### Break"
   ]
  },
  {
   "cell_type": "code",
   "execution_count": 80,
   "id": "48ab670c-e098-4595-a71c-e966b351ed80",
   "metadata": {},
   "outputs": [
    {
     "name": "stdout",
     "output_type": "stream",
     "text": [
      "0\n",
      "1\n",
      "2\n",
      "3\n",
      "4\n",
      "5\n",
      "6\n",
      "7\n",
      "8\n",
      "9\n",
      "10\n"
     ]
    }
   ],
   "source": [
    "for i in range(100):\n",
    "    if i == 11:\n",
    "        break\n",
    "    print(i)"
   ]
  },
  {
   "cell_type": "code",
   "execution_count": 99,
   "id": "746ae9dd-caf5-4a2b-a7a6-d4d3c5d4e7b1",
   "metadata": {},
   "outputs": [
    {
     "name": "stdout",
     "output_type": "stream",
     "text": [
      "{'mike': 8, 'jane': 7, 'Too': 4, 'Ray': 5}\n",
      "AB\n"
     ]
    }
   ],
   "source": [
    "newinfo = {\n",
    "    'mike': 8,\n",
    "    'jane': 7,\n",
    "    'Too': 4,\n",
    "    'Ray': 5,\n",
    "    }\n",
    "print(newinfo)\n",
    "\n",
    "for value in newinfo.values():\n",
    "    if value == 4:\n",
    "        print (key)\n",
    "        break"
   ]
  },
  {
   "cell_type": "code",
   "execution_count": 100,
   "id": "85c8b6ea-131b-47ed-8b9a-9a1c61ec8fc1",
   "metadata": {},
   "outputs": [
    {
     "name": "stdout",
     "output_type": "stream",
     "text": [
      "{'mike': 8, 'jane': 7, 'Too': 4, 'Ray': 5}\n",
      "Too\n"
     ]
    }
   ],
   "source": [
    "newinfo = {\n",
    "    'mike': 8,\n",
    "    'jane': 7,\n",
    "    'Too': 4,\n",
    "    'Ray': 5,\n",
    "    }\n",
    "print(newinfo)\n",
    "\n",
    "for key, value in newinfo.items():\n",
    "    if value == 4:\n",
    "        print (key)\n",
    "        break"
   ]
  },
  {
   "cell_type": "code",
   "execution_count": 82,
   "id": "40d149c3-8856-4838-90f1-2f8c971191c5",
   "metadata": {},
   "outputs": [
    {
     "name": "stdout",
     "output_type": "stream",
     "text": [
      "잡았다\n"
     ]
    }
   ],
   "source": [
    "rice = ['보리', '보리', '보리', '보리', '쌀', '보리']\n",
    "\n",
    "for r in rice:\n",
    "    if r == '쌀':\n",
    "        print('잡았다')\n",
    "        break"
   ]
  },
  {
   "cell_type": "code",
   "execution_count": 86,
   "id": "5de34972-c129-413e-b8d5-30fd36df4224",
   "metadata": {},
   "outputs": [
    {
     "name": "stdout",
     "output_type": "stream",
     "text": [
      "잡았다! 4번째에 있었구나\n"
     ]
    }
   ],
   "source": [
    "i = 0\n",
    "\n",
    "while True: \n",
    "    i = i + 1\n",
    "    if rice[i] == '쌀': \n",
    "        \n",
    "        print('잡았다! 'f'{i}번째에 있었구나')\n",
    "        break\n",
    "    "
   ]
  },
  {
   "cell_type": "markdown",
   "id": "ad0a3fce-9e10-4a6e-9aef-f5fe5381fb26",
   "metadata": {},
   "source": [
    "### Continue"
   ]
  },
  {
   "cell_type": "code",
   "execution_count": 103,
   "id": "ecaed39a-f9ca-4d4d-926c-f10f5a0da4fa",
   "metadata": {},
   "outputs": [
    {
     "name": "stdout",
     "output_type": "stream",
     "text": [
      "0\n",
      "2\n",
      "4\n",
      "6\n",
      "8\n",
      "10\n"
     ]
    }
   ],
   "source": [
    "for i in range(20):\n",
    "    if i % 2:\n",
    "        continue\n",
    "    if i > 10:\n",
    "        continue\n",
    "    print(i)"
   ]
  },
  {
   "cell_type": "code",
   "execution_count": 105,
   "id": "16ddb28d-e9f1-4453-939f-69eeea8d86f5",
   "metadata": {},
   "outputs": [
    {
     "name": "stdout",
     "output_type": "stream",
     "text": [
      "성인입니다\n",
      "성인입니다\n",
      "성인입니다\n"
     ]
    }
   ],
   "source": [
    "ages = [10, 20, 38, 82, 11, 13, 39]\n",
    "\n",
    "for age in ages:\n",
    "    if age <= 20:\n",
    "        continue\n",
    "    print('성인입니다')"
   ]
  },
  {
   "cell_type": "code",
   "execution_count": 106,
   "id": "8e44fe38-4bbf-45a0-863d-125e0cdad5a2",
   "metadata": {},
   "outputs": [
    {
     "ename": "SyntaxError",
     "evalue": "invalid syntax (3667247090.py, line 8)",
     "output_type": "error",
     "traceback": [
      "\u001b[0;36m  Cell \u001b[0;32mIn[106], line 8\u001b[0;36m\u001b[0m\n\u001b[0;31m    for\u001b[0m\n\u001b[0m        ^\u001b[0m\n\u001b[0;31mSyntaxError\u001b[0m\u001b[0;31m:\u001b[0m invalid syntax\n"
     ]
    }
   ],
   "source": [
    "ages = {\n",
    "    태주: 10,\n",
    "    영희: 20,\n",
    "    관후: 30,\n",
    "    영석: 40,\n",
    "}\n",
    "\n",
    "for "
   ]
  },
  {
   "cell_type": "markdown",
   "id": "74b54b77-654e-4681-ae46-ba126c988383",
   "metadata": {},
   "source": [
    "### else\n",
    "\n",
    "else문은 끝까지 반복된 후 실행됩니다. break를 만나지 않았을 때 실행됩니다."
   ]
  },
  {
   "cell_type": "code",
   "execution_count": 109,
   "id": "fe4f32d3-1519-4020-b807-85fb53e613bc",
   "metadata": {},
   "outputs": [
    {
     "name": "stdout",
     "output_type": "stream",
     "text": [
      "0\n",
      "1\n",
      "2\n",
      "3\n",
      "4\n",
      "5\n"
     ]
    }
   ],
   "source": [
    "for i in range(10):\n",
    "    if i > 5:\n",
    "        break\n",
    "    print(i)\n",
    "\n",
    "else:\n",
    "    print('else입니다.')"
   ]
  },
  {
   "cell_type": "markdown",
   "id": "49056a32-2b6d-4a5b-88a8-44ab046673a9",
   "metadata": {},
   "source": [
    "### pass"
   ]
  },
  {
   "cell_type": "code",
   "execution_count": 111,
   "id": "acee3d0c-e22b-41c2-bec3-297bc407f624",
   "metadata": {},
   "outputs": [
    {
     "ename": "SyntaxError",
     "evalue": "incomplete input (3132949053.py, line 2)",
     "output_type": "error",
     "traceback": [
      "\u001b[0;36m  Cell \u001b[0;32mIn[111], line 2\u001b[0;36m\u001b[0m\n\u001b[0;31m    \u001b[0m\n\u001b[0m    ^\u001b[0m\n\u001b[0;31mSyntaxError\u001b[0m\u001b[0;31m:\u001b[0m incomplete input\n"
     ]
    }
   ],
   "source": [
    "if True:\n",
    "    "
   ]
  },
  {
   "cell_type": "code",
   "execution_count": 112,
   "id": "5c489651-cf64-493d-8637-f0830b78a58d",
   "metadata": {},
   "outputs": [],
   "source": [
    "if True:\n",
    "    pass\n",
    "    #코드 짜는 중간에 일단 이프문 만들어둘 때 사용 (오류방지)\n"
   ]
  },
  {
   "cell_type": "markdown",
   "id": "352771f7-cc68-4a1c-a2db-a3e8279a08bf",
   "metadata": {},
   "source": [
    "###match\n",
    "\n",
    "q"
   ]
  },
  {
   "cell_type": "code",
   "execution_count": 119,
   "id": "488362d7-b492-4c07-85a1-d12178509f49",
   "metadata": {},
   "outputs": [
    {
     "ename": "IndentationError",
     "evalue": "unexpected indent (530352093.py, line 5)",
     "output_type": "error",
     "traceback": [
      "\u001b[0;36m  Cell \u001b[0;32mIn[119], line 5\u001b[0;36m\u001b[0m\n\u001b[0;31m    print('ok')\u001b[0m\n\u001b[0m    ^\u001b[0m\n\u001b[0;31mIndentationError\u001b[0m\u001b[0;31m:\u001b[0m unexpected indent\n"
     ]
    }
   ],
   "source": [
    "status = input()\n",
    "\n",
    "match status:\n",
    "    case status == 100:\n",
    "        print('ok')\n",
    "    case status == 404:\n",
    "        print('Yes')\n",
    "    case _\n",
    "        print('Done')"
   ]
  },
  {
   "cell_type": "code",
   "execution_count": null,
   "id": "74648205-b5bf-4507-80aa-29a5e7df3b12",
   "metadata": {},
   "outputs": [],
   "source": []
  }
 ],
 "metadata": {
  "kernelspec": {
   "display_name": "Python 3 (ipykernel)",
   "language": "python",
   "name": "python3"
  },
  "language_info": {
   "codemirror_mode": {
    "name": "ipython",
    "version": 3
   },
   "file_extension": ".py",
   "mimetype": "text/x-python",
   "name": "python",
   "nbconvert_exporter": "python",
   "pygments_lexer": "ipython3",
   "version": "3.12.4"
  }
 },
 "nbformat": 4,
 "nbformat_minor": 5
}
